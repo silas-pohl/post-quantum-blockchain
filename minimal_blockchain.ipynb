{
 "cells": [
  {
   "cell_type": "markdown",
   "metadata": {
    "id": "4sxMHZn3mivR"
   },
   "source": [
    "# Import and install required dependencies"
   ]
  },
  {
   "cell_type": "code",
   "execution_count": null,
   "metadata": {
    "colab": {
     "base_uri": "https://localhost:8080/"
    },
    "id": "2WCzMOdANMu5",
    "outputId": "5bc27bea-6860-48bd-84e4-14455b9ccacb"
   },
   "outputs": [
    {
     "name": "stdout",
     "output_type": "stream",
     "text": [
      "Collecting ecdsa\n",
      "  Downloading ecdsa-0.19.0-py2.py3-none-any.whl.metadata (29 kB)\n",
      "Requirement already satisfied: six>=1.9.0 in /usr/local/lib/python3.10/dist-packages (from ecdsa) (1.16.0)\n",
      "Downloading ecdsa-0.19.0-py2.py3-none-any.whl (149 kB)\n",
      "\u001b[?25l   \u001b[90m━━━━━━━━━━━━━━━━━━━━━━━━━━━━━━━━━━━━━━━━\u001b[0m \u001b[32m0.0/149.3 kB\u001b[0m \u001b[31m?\u001b[0m eta \u001b[36m-:--:--\u001b[0m\r",
      "\u001b[2K   \u001b[90m━━━━━━━━━━━━━━━━━━━━━━━━━━━━━━━━━━━━━━━━\u001b[0m \u001b[32m149.3/149.3 kB\u001b[0m \u001b[31m7.0 MB/s\u001b[0m eta \u001b[36m0:00:00\u001b[0m\n",
      "\u001b[?25hInstalling collected packages: ecdsa\n",
      "Successfully installed ecdsa-0.19.0\n"
     ]
    }
   ],
   "source": [
    "pip install ecdsa"
   ]
  },
  {
   "cell_type": "code",
   "execution_count": null,
   "metadata": {
    "id": "NhCSdR_luJVS"
   },
   "outputs": [],
   "source": [
    "import hashlib\n",
    "import time\n",
    "import base64\n",
    "from abc import ABC, abstractmethod\n",
    "import ecdsa\n",
    "from ecdsa.keys import VerifyingKey, SigningKey\n",
    "from typing import Tuple, List\n",
    "import sys, json\n",
    "import os"
   ]
  },
  {
   "cell_type": "markdown",
   "metadata": {
    "id": "ZoMhwsdnXZll"
   },
   "source": [
    "# 1. Implement a minimal Blockchain in Python"
   ]
  },
  {
   "cell_type": "markdown",
   "metadata": {
    "id": "b6j17ibsXf95"
   },
   "source": [
    "## 1.1 CryptoProvider Interface and ECDSA / SHA256 Implementation\n"
   ]
  },
  {
   "cell_type": "markdown",
   "metadata": {
    "id": "Tca6b1XtwFtX"
   },
   "source": [
    "**Create the `CryptoProvider` Interface**"
   ]
  },
  {
   "cell_type": "code",
   "execution_count": null,
   "metadata": {
    "id": "-zWAwKczvYub"
   },
   "outputs": [],
   "source": [
    "class CryptoProvider(ABC):\n",
    "    \"\"\"\n",
    "    Abstract base class for cryptographic operations.\n",
    "\n",
    "    This class provides a standardized interface for cryptographic operations,\n",
    "    including key generation, message signing, signature verification, and data hashing.\n",
    "    Subclasses must implement each method to perform the specified cryptographic functionality.\n",
    "    \"\"\"\n",
    "\n",
    "    def __repr__(self) -> str:\n",
    "        \"\"\"\n",
    "        Return a string representation of the provider class.\n",
    "\n",
    "        Returns:\n",
    "            str: A string representation indicating the class name.\n",
    "        \"\"\"\n",
    "        return \"ECDSASHA256Provider\"\n",
    "\n",
    "    @abstractmethod\n",
    "    def generate_key_pair(self) -> Tuple[bytes, bytes]:\n",
    "        \"\"\"\n",
    "        Generate a cryptographic key pair.\n",
    "\n",
    "        Returns:\n",
    "            Tuple[bytes, bytes]: A tuple containing the private and public keys as bytes.\n",
    "        \"\"\"\n",
    "        pass\n",
    "\n",
    "    @abstractmethod\n",
    "    def sign(self, private_key: bytes, message: str) -> bytes:\n",
    "        \"\"\"\n",
    "        Sign a message using the provided private key.\n",
    "\n",
    "        Args:\n",
    "            private_key (bytes): The private key used to sign the message.\n",
    "            message (str): The message to be signed.\n",
    "\n",
    "        Returns:\n",
    "            bytes: The generated signature as bytes.\n",
    "        \"\"\"\n",
    "        pass\n",
    "\n",
    "    @abstractmethod\n",
    "    def verify(self, public_key: bytes, message: str, signature: bytes) -> bool:\n",
    "        \"\"\"\n",
    "        Verify a signature for a given message and public key.\n",
    "\n",
    "        Args:\n",
    "            public_key (bytes): The public key used to verify the signature.\n",
    "            message (str): The message whose signature is to be verified.\n",
    "            signature (bytes): The signature to verify.\n",
    "\n",
    "        Returns:\n",
    "            bool: True if the signature is valid; False otherwise.\n",
    "        \"\"\"\n",
    "        pass\n",
    "\n",
    "    @abstractmethod\n",
    "    def hash(self, data: str) -> str:\n",
    "        \"\"\"\n",
    "        Compute a cryptographic hash of the provided data.\n",
    "\n",
    "        Args:\n",
    "            data (str): The data to be hashed.\n",
    "\n",
    "        Returns:\n",
    "            str: The resulting hash as a hexadecimal string.\n",
    "        \"\"\"\n",
    "        pass"
   ]
  },
  {
   "cell_type": "markdown",
   "metadata": {
    "id": "X0WTkasOzK8m"
   },
   "source": [
    "**Create the ECDSA / SHA256 Implementation `ECDSASHA256Provider`**"
   ]
  },
  {
   "cell_type": "code",
   "execution_count": null,
   "metadata": {
    "id": "rH1zVM3_x90V"
   },
   "outputs": [],
   "source": [
    "class ECDSASHA256Provider(CryptoProvider):\n",
    "    \"\"\"\n",
    "    Provides cryptographic operations using ECDSA with SHA-256 hashing.\n",
    "\n",
    "    This class implements the `CryptoProvider` interface, using the SECP256k1 elliptic curve\n",
    "    for ECDSA key generation, message signing, and signature verification, along with SHA-256\n",
    "    hashing for data integrity.\n",
    "    \"\"\"\n",
    "\n",
    "    def generate_key_pair(self) -> Tuple[bytes, bytes]:\n",
    "        \"\"\"\n",
    "        Generate a cryptographic ECDSA key pair.\n",
    "\n",
    "        Uses the SECP256k1 elliptic curve to generate a private and public key pair.\n",
    "\n",
    "        Returns:\n",
    "            Tuple[bytes, bytes]: A tuple containing the private and public keys as DER-encoded bytes.\n",
    "        \"\"\"\n",
    "        private_key = ecdsa.SigningKey.generate(curve=ecdsa.SECP256k1)\n",
    "        public_key = private_key.get_verifying_key()\n",
    "        return private_key.to_der(), public_key.to_der()\n",
    "\n",
    "    def sign(self, private_key: bytes, message: str) -> bytes:\n",
    "        \"\"\"\n",
    "        Sign a message using the provided ECDSA private key.\n",
    "\n",
    "        Args:\n",
    "            private_key (bytes): The private key in DER format.\n",
    "            message (str): The message to be signed.\n",
    "\n",
    "        Returns:\n",
    "            bytes: The generated signature as bytes.\n",
    "        \"\"\"\n",
    "        return ecdsa.SigningKey.from_der(private_key).sign(message.encode('utf-8'))\n",
    "\n",
    "    def verify(self, public_key: bytes, message: str, signature: bytes) -> bool:\n",
    "        \"\"\"\n",
    "        Verify a signature for a given message and ECDSA public key.\n",
    "\n",
    "        Args:\n",
    "            public_key (bytes): The public key in DER format used to verify the signature.\n",
    "            message (str): The message whose signature is to be verified.\n",
    "            signature (bytes): The signature to verify.\n",
    "\n",
    "        Returns:\n",
    "            bool: True if the signature is valid; False otherwise.\n",
    "        \"\"\"\n",
    "        try:\n",
    "            return ecdsa.VerifyingKey.from_der(public_key).verify(signature, message.encode('utf-8'))\n",
    "        except ecdsa.BadSignatureError:\n",
    "            return False\n",
    "\n",
    "    def hash(self, data: str) -> str:\n",
    "        \"\"\"\n",
    "        Compute a SHA-256 cryptographic hash of the provided data.\n",
    "\n",
    "        Args:\n",
    "            data (str): The data to be hashed.\n",
    "\n",
    "        Returns:\n",
    "            str: The resulting SHA-256 hash as a hexadecimal string.\n",
    "        \"\"\"\n",
    "        return hashlib.sha256(data.encode('utf-8')).hexdigest()\n"
   ]
  },
  {
   "cell_type": "markdown",
   "metadata": {
    "id": "ebJWM-dLYAyD"
   },
   "source": [
    "## 1.2 Create the Blockchain"
   ]
  },
  {
   "cell_type": "markdown",
   "metadata": {
    "id": "mDtuNB67rK8Q"
   },
   "source": [
    "**Create the `Transaction` class**"
   ]
  },
  {
   "cell_type": "code",
   "execution_count": null,
   "metadata": {
    "id": "RSYCZt3DN0NG"
   },
   "outputs": [],
   "source": [
    "class Transaction():\n",
    "    \"\"\"\n",
    "    Represents a blockchain transaction between a sender and a recipient.\n",
    "\n",
    "    This class contains the details of a transaction, including the sender, recipient,\n",
    "    amount, and a cryptographic provider for signing and verifying the transaction.\n",
    "    \"\"\"\n",
    "\n",
    "    def __init__(self, sender: str, recipient: str, amount: int, crypto_provider: CryptoProvider):\n",
    "        \"\"\"\n",
    "        Initialize a new transaction.\n",
    "\n",
    "        Args:\n",
    "            sender (str): The sender's public key as a base64-encoded string.\n",
    "            recipient (str): The recipient's public key as a base64-encoded string.\n",
    "            amount (int): The amount of funds to transfer.\n",
    "            crypto_provider (CryptoProvider): The cryptographic provider used for signing and verifying the transaction.\n",
    "        \"\"\"\n",
    "        self.sender = sender\n",
    "        self.recipient = recipient\n",
    "        self.amount = amount\n",
    "        self.crypto_provider = crypto_provider\n",
    "        self.signature = None\n",
    "\n",
    "    def sign_transaction(self, private_key: bytes):\n",
    "        \"\"\"\n",
    "        Sign the transaction using the sender's private key.\n",
    "\n",
    "        Args:\n",
    "            private_key (bytes): The sender's private key in bytes format.\n",
    "        \"\"\"\n",
    "        transaction_string = f'{self.sender}{self.recipient}{self.amount}{self.crypto_provider}'\n",
    "        self.signature = self.crypto_provider.sign(private_key, transaction_string)\n",
    "\n",
    "    def is_valid(self) -> bool:\n",
    "        \"\"\"\n",
    "        Verify the validity of the transaction signature.\n",
    "\n",
    "        Returns:\n",
    "            bool: True if the transaction signature is valid; False otherwise.\n",
    "        \"\"\"\n",
    "        transaction_string = f'{self.sender}{self.recipient}{self.amount}{self.crypto_provider}'\n",
    "        return self.crypto_provider.verify(base64.b64decode(self.sender), transaction_string, self.signature)"
   ]
  },
  {
   "cell_type": "markdown",
   "metadata": {
    "id": "QcY0eKR5sDWr"
   },
   "source": [
    "**Create the `Block` class**"
   ]
  },
  {
   "cell_type": "code",
   "execution_count": null,
   "metadata": {
    "id": "jwp1jnD_OHJi"
   },
   "outputs": [],
   "source": [
    "class Block():\n",
    "    \"\"\"\n",
    "    Represents a block in a blockchain.\n",
    "\n",
    "    Each block contains a list of transactions, a reference to the previous block's hash,\n",
    "    and is associated with a cryptographic provider for hashing and verification. The block\n",
    "    includes metadata such as a timestamp, a nonce for proof-of-work, and its own computed hash.\n",
    "    \"\"\"\n",
    "\n",
    "    def __init__(self, index: int, previous_hash: str, transactions: List[Transaction], crypto_provider: CryptoProvider, timestamp=None):\n",
    "        \"\"\"\n",
    "        Initialize a new block.\n",
    "\n",
    "        Args:\n",
    "            index (int): The index of the block in the blockchain.\n",
    "            previous_hash (str): The hash of the previous block in the chain.\n",
    "            transactions (List[Transaction]): A list of transactions included in the block.\n",
    "            crypto_provider (CryptoProvider): The cryptographic provider used for hashing and verification.\n",
    "            timestamp (float, optional): The timestamp of block creation. Defaults to the current time.\n",
    "        \"\"\"\n",
    "        self.index = index\n",
    "        self.previous_hash = previous_hash\n",
    "        self.transactions = transactions\n",
    "        self.crypto_provider = crypto_provider\n",
    "        self.timestamp = timestamp or time.time()\n",
    "        self.nonce = 0\n",
    "        self.hash = None\n",
    "\n",
    "    def compute_hash(self) -> str:\n",
    "        \"\"\"\n",
    "        Compute the cryptographic hash of the block's contents (block's index, previous hash, transactions, cryptographic provider, timestamp,\n",
    "        and nonce)\n",
    "\n",
    "        Returns:\n",
    "            str: The computed hash of the block as a hexadecimal string.\n",
    "        \"\"\"\n",
    "        block_string = f'{self.index}{self.previous_hash}{self.transactions}{self.crypto_provider}{self.timestamp}{self.nonce}'\n",
    "        return self.crypto_provider.hash(block_string)\n",
    "\n",
    "    def is_valid(self) -> bool:\n",
    "        \"\"\"\n",
    "        Verify the validity of the block. Checks that all transactions in the block are valid and that the block's hash matches\n",
    "        the computed hash based on its current contents.\n",
    "\n",
    "        Returns:\n",
    "            bool: True if the block is valid; False otherwise.\n",
    "        \"\"\"\n",
    "        if (\n",
    "            not all(transaction.is_valid() for transaction in self.transactions) or\n",
    "            self.hash != self.compute_hash()\n",
    "        ):\n",
    "            return False\n",
    "        return True"
   ]
  },
  {
   "cell_type": "markdown",
   "metadata": {
    "id": "aYpu0S9qspWX"
   },
   "source": [
    "**Create the `Blockchain` class**"
   ]
  },
  {
   "cell_type": "code",
   "execution_count": null,
   "metadata": {
    "id": "k2m8usqQPKEK"
   },
   "outputs": [],
   "source": [
    "class Blockchain():\n",
    "    \"\"\"\n",
    "    Represents a blockchain, which is a sequence of blocks containing transactions.\n",
    "\n",
    "    The blockchain maintains a chain of blocks, manages pending transactions, and enables\n",
    "    the mining process. It includes methods for validating the chain and retrieving balances\n",
    "    for specific addresses.\n",
    "    \"\"\"\n",
    "\n",
    "    def __init__(self, block_size: int, difficulty: int, crypto_provider: CryptoProvider):\n",
    "        \"\"\"\n",
    "        Initialize a new blockchain.\n",
    "\n",
    "        Args:\n",
    "            block_size (int): The maximum number of transactions per block.\n",
    "            difficulty (int): The difficulty level for the proof-of-work algorithm, determining the number of leading zeros required in the hash.\n",
    "            crypto_provider (CryptoProvider): The cryptographic provider used for hashing and verification.\n",
    "        \"\"\"\n",
    "        self.block_size = block_size\n",
    "        self.difficulty = difficulty\n",
    "        self.crypto_provider = crypto_provider\n",
    "        self.chain = []\n",
    "        self.pending_transactions = []\n",
    "        self._create_genesis_block()\n",
    "\n",
    "    def _create_genesis_block(self):\n",
    "        \"\"\"\n",
    "        Create the genesis (first) block in the blockchain. The genesis block has no previous hash, no transactions, and\n",
    "        is precomputed with a valid hash. Shouldnt' be called manually.\n",
    "        \"\"\"\n",
    "        genesis_block = Block(0, \"0\", [], self.crypto_provider)\n",
    "        genesis_block.hash = genesis_block.compute_hash()\n",
    "        self.chain.append(genesis_block)\n",
    "\n",
    "    def add_transaction(self, transaction: Transaction):\n",
    "        \"\"\"\n",
    "        Add a new transaction to the list of pending transactions.\n",
    "\n",
    "        Args:\n",
    "            transaction (Transaction): The transaction to be added to the blockchain.\n",
    "        \"\"\"\n",
    "        self.pending_transactions.append(transaction)\n",
    "\n",
    "    def mine_pending_transactions(self):\n",
    "        \"\"\"\n",
    "        Mine the pending transactions and add a new block to the blockchain. Mines transactions up to the block size limit,\n",
    "        computes the proof-of-work to meet the difficulty level, and adds the new block to the chain. Resets pending transactions\n",
    "        after the block is mined.\n",
    "\n",
    "        Returns:\n",
    "            str: Message indicating if there were no transactions to mine.\n",
    "        \"\"\"\n",
    "        if not self.pending_transactions:\n",
    "            return \"No transactions to mine.\"\n",
    "        block = Block(len(self.chain), self.chain[-1].compute_hash(), self.pending_transactions[:self.block_size], self.crypto_provider)\n",
    "        while not block.compute_hash().startswith('0' * self.difficulty):\n",
    "            block.nonce += 1\n",
    "        block.hash = block.compute_hash()\n",
    "        self.chain.append(block)\n",
    "        self.pending_transactions = self.pending_transactions[self.block_size:]\n",
    "\n",
    "    def is_valid(self) -> bool:\n",
    "        \"\"\"\n",
    "        Verify the integrity of the blockchain. Checks each block in the chain to ensure all blocks are valid and that the hashes\n",
    "        link correctly to maintain the chain's integrity.\n",
    "\n",
    "        Returns:\n",
    "            bool: True if the blockchain is valid; False otherwise.\n",
    "        \"\"\"\n",
    "        for i in range(1, len(self.chain)):\n",
    "            current_block = self.chain[i]\n",
    "            previous_block = self.chain[i - 1]\n",
    "            if (\n",
    "                not current_block.is_valid() or\n",
    "                current_block.previous_hash != previous_block.hash\n",
    "            ):\n",
    "                return False\n",
    "        return True\n",
    "\n",
    "    def get_balance(self, address):\n",
    "        \"\"\"\n",
    "        Calculate the balance for a given address. Iterates through the blockchain to sum up all transactions related to the specified\n",
    "        address to determine the current balance.\n",
    "\n",
    "        Args:\n",
    "            address (str): The address to calculate the balance for.\n",
    "\n",
    "        Returns:\n",
    "            int: The balance of the specified address.\n",
    "        \"\"\"\n",
    "        balance = 0\n",
    "        for block in self.chain:\n",
    "            for transaction in block.transactions:\n",
    "                if transaction.recipient == address:\n",
    "                    balance += transaction.amount\n",
    "                if transaction.sender == address:\n",
    "                    balance -= transaction.amount\n",
    "        return balance"
   ]
  },
  {
   "cell_type": "markdown",
   "metadata": {
    "id": "MdIfWZBxtAJv"
   },
   "source": [
    "**Add methods to display the full blockchain as a printable string**"
   ]
  },
  {
   "cell_type": "code",
   "execution_count": null,
   "metadata": {
    "id": "YmUQ_gM-m9TF"
   },
   "outputs": [],
   "source": [
    "def convert_transaction_to_string(self) -> str:\n",
    "    return (\n",
    "        \"\\n\"\n",
    "        f\"  | Sender:     {self.sender}\\n\"\n",
    "        f\"  | Recipient:  {self.recipient}\\n\"\n",
    "        f\"  | Amount:     {self.amount}\\n\"\n",
    "        f\"  | Signature:  {base64.b64encode(self.signature).decode('utf-8')}\"\n",
    "    )\n",
    "\n",
    "Transaction.__str__ = convert_transaction_to_string\n",
    "del convert_transaction_to_string\n",
    "\n",
    "def convert_block_to_string(self) -> str:\n",
    "        return (\n",
    "            f\"Block #{self.index}\\n\"\n",
    "            f\"Previous Hash: {self.previous_hash}\\n\"\n",
    "            f\"Transactions:\" + \"\\n  | \".join(str(transaction) for transaction in self.transactions) + \"\\n\"\n",
    "            f\"Timestamp: {self.timestamp}\\n\"\n",
    "            f\"Nonce: {self.nonce}\\n\"\n",
    "            f\"Hash: {self.hash}\"\n",
    "        )\n",
    "\n",
    "Block.__str__ = convert_block_to_string\n",
    "del convert_block_to_string\n",
    "\n",
    "def convert_blockchain_to_string(self) -> str:\n",
    "    return (\n",
    "        f\"Blockchain with Blocksize {self.block_size} and Difficulty {self.difficulty}\\n\\n\"\n",
    "        + \"\\n\\n\".join(str(block) for block in self.chain) + \"\\n\"\n",
    "        + \"\\nPending Transactions:\" + \"\\n  | \".join(str(transaction) for transaction in self.pending_transactions) + \"\\n\"\n",
    "    )\n",
    "\n",
    "Blockchain.__str__ = convert_blockchain_to_string\n",
    "del convert_blockchain_to_string"
   ]
  },
  {
   "cell_type": "markdown",
   "metadata": {
    "id": "oksxvTIRausU"
   },
   "source": [
    "## 1.3 Test the Blockchain"
   ]
  },
  {
   "cell_type": "code",
   "execution_count": null,
   "metadata": {
    "colab": {
     "base_uri": "https://localhost:8080/"
    },
    "id": "jBXPicJeQ4jK",
    "outputId": "01169b5f-ba7d-4dca-8263-26ad5a89d438"
   },
   "outputs": [
    {
     "name": "stdout",
     "output_type": "stream",
     "text": [
      "Blockchain with Blocksize 2 and Difficulty 3\n",
      "\n",
      "Block #0\n",
      "Previous Hash: 0\n",
      "Transactions:\n",
      "Timestamp: 1731963543.1517699\n",
      "Nonce: 0\n",
      "Hash: 655cd6e888d5813680490d8786022163d829ce12d13afeda2476e46f218d019e\n",
      "\n",
      "Block #1\n",
      "Previous Hash: 655cd6e888d5813680490d8786022163d829ce12d13afeda2476e46f218d019e\n",
      "Transactions:\n",
      "  | Sender:     MFYwEAYHKoZIzj0CAQYFK4EEAAoDQgAEcDCCs0k2O6iVpn/m36lSrRU7XoLtYv1LT/m17/oalVO259NaPsXDa6nQG+1hWY1kNslqh8EOuu4AKmsC6eqZEg==\n",
      "  | Recipient:  MFYwEAYHKoZIzj0CAQYFK4EEAAoDQgAEmFPypusHfcWJYkR7UN/j7GaTowoepPVPMUYf2Qc3vZ37+hPNmdlTEeIZOpzeqrwm4XQTXTCMfzQA5jOQLtqrgQ==\n",
      "  | Amount:     30\n",
      "  | Signature:  24g6fr5Q5/N8152FTCT6oVLOa1MDlTQXfRIC3nMdrHE+f5QJMqPJN+EHyPf7Vw65WG/eDWgFypCjPyYt0VMd8g==\n",
      "  | \n",
      "  | Sender:     MFYwEAYHKoZIzj0CAQYFK4EEAAoDQgAEmFPypusHfcWJYkR7UN/j7GaTowoepPVPMUYf2Qc3vZ37+hPNmdlTEeIZOpzeqrwm4XQTXTCMfzQA5jOQLtqrgQ==\n",
      "  | Recipient:  MFYwEAYHKoZIzj0CAQYFK4EEAAoDQgAEcDCCs0k2O6iVpn/m36lSrRU7XoLtYv1LT/m17/oalVO259NaPsXDa6nQG+1hWY1kNslqh8EOuu4AKmsC6eqZEg==\n",
      "  | Amount:     10\n",
      "  | Signature:  Sj+ru574QIF3X3nIL5xyPE3HD2M2DvxE/PA34E75oKNrjJUDLzQKk9d31npUtNPDFHK453C/cS9wnLceKbWCrQ==\n",
      "Timestamp: 1731963543.1520598\n",
      "Nonce: 3776\n",
      "Hash: 000a159c0c9e76292c7a7df8d07dd5d44e41f07b9f2e1d1aba22e899243e0b71\n",
      "\n",
      "Pending Transactions:\n",
      "  | Sender:     MFYwEAYHKoZIzj0CAQYFK4EEAAoDQgAEmFPypusHfcWJYkR7UN/j7GaTowoepPVPMUYf2Qc3vZ37+hPNmdlTEeIZOpzeqrwm4XQTXTCMfzQA5jOQLtqrgQ==\n",
      "  | Recipient:  MFYwEAYHKoZIzj0CAQYFK4EEAAoDQgAEcDCCs0k2O6iVpn/m36lSrRU7XoLtYv1LT/m17/oalVO259NaPsXDa6nQG+1hWY1kNslqh8EOuu4AKmsC6eqZEg==\n",
      "  | Amount:     15\n",
      "  | Signature:  yY+FD/SHuL8v85cH+DN+N9oLsPwRD2A7poX7d5pnJoyY8pFdIU+0+9PG+BN6TVdwo3Ys80LBt+2NiaLIye5w5Q==\n",
      "\n",
      "\n",
      "Checking the balances of the addresses...\n",
      "Balance of address1(MFYwEAYHKoZIzj0CAQYFK4EEAAoDQgAEcDCCs0k2O6iVpn/m36lSrRU7XoLtYv1LT/m17/oalVO259NaPsXDa6nQG+1hWY1kNslqh8EOuu4AKmsC6eqZEg==): -20\n",
      "Balance of address2(MFYwEAYHKoZIzj0CAQYFK4EEAAoDQgAEmFPypusHfcWJYkR7UN/j7GaTowoepPVPMUYf2Qc3vZ37+hPNmdlTEeIZOpzeqrwm4XQTXTCMfzQA5jOQLtqrgQ==): 20\n",
      "\n",
      "Mining the last pending transaction...\n",
      "Checking the balances of the addresses again...\n",
      "Balance of address1(MFYwEAYHKoZIzj0CAQYFK4EEAAoDQgAEcDCCs0k2O6iVpn/m36lSrRU7XoLtYv1LT/m17/oalVO259NaPsXDa6nQG+1hWY1kNslqh8EOuu4AKmsC6eqZEg==): -5\n",
      "Balance of address2(MFYwEAYHKoZIzj0CAQYFK4EEAAoDQgAEmFPypusHfcWJYkR7UN/j7GaTowoepPVPMUYf2Qc3vZ37+hPNmdlTEeIZOpzeqrwm4XQTXTCMfzQA5jOQLtqrgQ==): 5\n",
      "\n",
      "Checking the validity of the blockchain...\n",
      "Blockchain validity: True\n",
      "Modifying blockchain...\n",
      "Blockchain validity: False\n"
     ]
    }
   ],
   "source": [
    "crypto_provider = ECDSASHA256Provider()\n",
    "private_key1, public_key1 = crypto_provider.generate_key_pair()\n",
    "address1 = base64.b64encode(public_key1).decode(\"utf-8\")\n",
    "private_key2, public_key2 = crypto_provider.generate_key_pair()\n",
    "address2 = base64.b64encode(public_key2).decode(\"utf-8\")\n",
    "\n",
    "transaction1 = Transaction(address1, address2, 30, crypto_provider)\n",
    "transaction1.sign_transaction(private_key1)\n",
    "\n",
    "transaction2 = Transaction(address2, address1, 10, crypto_provider)\n",
    "transaction2.sign_transaction(private_key2)\n",
    "\n",
    "transaction3 = Transaction(address2, address1, 15, crypto_provider)\n",
    "transaction3.sign_transaction(private_key2)\n",
    "\n",
    "blockchain = Blockchain(2, 3, crypto_provider)\n",
    "blockchain.add_transaction(transaction1)\n",
    "blockchain.add_transaction(transaction2)\n",
    "blockchain.add_transaction(transaction3)\n",
    "blockchain.mine_pending_transactions()\n",
    "\n",
    "print(blockchain)\n",
    "\n",
    "print(\"\\nChecking the balances of the addresses...\")\n",
    "print(f\"Balance of address1({address1}): {blockchain.get_balance(address1)}\")\n",
    "print(f\"Balance of address2({address2}): {blockchain.get_balance(address2)}\")\n",
    "\n",
    "blockchain.mine_pending_transactions()\n",
    "print(\"\\nMining the last pending transaction...\")\n",
    "print(\"Checking the balances of the addresses again...\")\n",
    "print(f\"Balance of address1({address1}): {blockchain.get_balance(address1)}\")\n",
    "print(f\"Balance of address2({address2}): {blockchain.get_balance(address2)}\")\n",
    "\n",
    "print(\"\\nChecking the validity of the blockchain...\")\n",
    "print(f\"Blockchain validity: {blockchain.is_valid()}\")\n",
    "\n",
    "blockchain.chain[1].transactions[1].amount = 20\n",
    "print(\"Modifying blockchain...\")\n",
    "print(f\"Blockchain validity: {blockchain.is_valid()}\")"
   ]
  }
 ],
 "metadata": {
  "colab": {
   "provenance": []
  },
  "kernelspec": {
   "display_name": "Python 3 (ipykernel)",
   "language": "python",
   "name": "python3"
  },
  "language_info": {
   "codemirror_mode": {
    "name": "ipython",
    "version": 3
   },
   "file_extension": ".py",
   "mimetype": "text/x-python",
   "name": "python",
   "nbconvert_exporter": "python",
   "pygments_lexer": "ipython3",
   "version": "3.12.7"
  }
 },
 "nbformat": 4,
 "nbformat_minor": 4
}
