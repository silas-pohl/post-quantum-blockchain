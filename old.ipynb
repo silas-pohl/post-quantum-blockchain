{
 "cells": [
  {
   "cell_type": "markdown",
   "metadata": {
    "id": "4sxMHZn3mivR"
   },
   "source": [
    "# Import and install required dependencies"
   ]
  },
  {
   "cell_type": "code",
   "execution_count": null,
   "metadata": {
    "colab": {
     "base_uri": "https://localhost:8080/"
    },
    "id": "2WCzMOdANMu5",
    "outputId": "5bc27bea-6860-48bd-84e4-14455b9ccacb"
   },
   "outputs": [
    {
     "name": "stdout",
     "output_type": "stream",
     "text": [
      "Collecting ecdsa\n",
      "  Downloading ecdsa-0.19.0-py2.py3-none-any.whl.metadata (29 kB)\n",
      "Requirement already satisfied: six>=1.9.0 in /usr/local/lib/python3.10/dist-packages (from ecdsa) (1.16.0)\n",
      "Downloading ecdsa-0.19.0-py2.py3-none-any.whl (149 kB)\n",
      "\u001b[?25l   \u001b[90m━━━━━━━━━━━━━━━━━━━━━━━━━━━━━━━━━━━━━━━━\u001b[0m \u001b[32m0.0/149.3 kB\u001b[0m \u001b[31m?\u001b[0m eta \u001b[36m-:--:--\u001b[0m\r",
      "\u001b[2K   \u001b[90m━━━━━━━━━━━━━━━━━━━━━━━━━━━━━━━━━━━━━━━━\u001b[0m \u001b[32m149.3/149.3 kB\u001b[0m \u001b[31m7.0 MB/s\u001b[0m eta \u001b[36m0:00:00\u001b[0m\n",
      "\u001b[?25hInstalling collected packages: ecdsa\n",
      "Successfully installed ecdsa-0.19.0\n"
     ]
    }
   ],
   "source": [
    "pip install ecdsa"
   ]
  },
  {
   "cell_type": "code",
   "execution_count": null,
   "metadata": {
    "id": "NhCSdR_luJVS"
   },
   "outputs": [],
   "source": [
    "import hashlib\n",
    "import time\n",
    "import base64\n",
    "from abc import ABC, abstractmethod\n",
    "import ecdsa\n",
    "from ecdsa.keys import VerifyingKey, SigningKey\n",
    "from typing import Tuple, List\n",
    "import sys, json\n",
    "import os"
   ]
  },
  {
   "cell_type": "markdown",
   "metadata": {
    "id": "ZoMhwsdnXZll"
   },
   "source": [
    "# 1. Implement a minimal Blockchain in Python"
   ]
  },
  {
   "cell_type": "markdown",
   "metadata": {
    "id": "b6j17ibsXf95"
   },
   "source": [
    "## 1.1 CryptoProvider Interface and ECDSA / SHA256 Implementation\n"
   ]
  },
  {
   "cell_type": "markdown",
   "metadata": {
    "id": "Tca6b1XtwFtX"
   },
   "source": [
    "**Create the `CryptoProvider` Interface**"
   ]
  },
  {
   "cell_type": "code",
   "execution_count": null,
   "metadata": {
    "id": "-zWAwKczvYub"
   },
   "outputs": [],
   "source": [
    "class CryptoProvider(ABC):\n",
    "    \"\"\"\n",
    "    Abstract base class for cryptographic operations.\n",
    "\n",
    "    This class provides a standardized interface for cryptographic operations,\n",
    "    including key generation, message signing, signature verification, and data hashing.\n",
    "    Subclasses must implement each method to perform the specified cryptographic functionality.\n",
    "    \"\"\"\n",
    "\n",
    "    def __repr__(self) -> str:\n",
    "        \"\"\"\n",
    "        Return a string representation of the provider class.\n",
    "\n",
    "        Returns:\n",
    "            str: A string representation indicating the class name.\n",
    "        \"\"\"\n",
    "        return \"ECDSASHA256Provider\"\n",
    "\n",
    "    @abstractmethod\n",
    "    def generate_key_pair(self) -> Tuple[bytes, bytes]:\n",
    "        \"\"\"\n",
    "        Generate a cryptographic key pair.\n",
    "\n",
    "        Returns:\n",
    "            Tuple[bytes, bytes]: A tuple containing the private and public keys as bytes.\n",
    "        \"\"\"\n",
    "        pass\n",
    "\n",
    "    @abstractmethod\n",
    "    def sign(self, private_key: bytes, message: str) -> bytes:\n",
    "        \"\"\"\n",
    "        Sign a message using the provided private key.\n",
    "\n",
    "        Args:\n",
    "            private_key (bytes): The private key used to sign the message.\n",
    "            message (str): The message to be signed.\n",
    "\n",
    "        Returns:\n",
    "            bytes: The generated signature as bytes.\n",
    "        \"\"\"\n",
    "        pass\n",
    "\n",
    "    @abstractmethod\n",
    "    def verify(self, public_key: bytes, message: str, signature: bytes) -> bool:\n",
    "        \"\"\"\n",
    "        Verify a signature for a given message and public key.\n",
    "\n",
    "        Args:\n",
    "            public_key (bytes): The public key used to verify the signature.\n",
    "            message (str): The message whose signature is to be verified.\n",
    "            signature (bytes): The signature to verify.\n",
    "\n",
    "        Returns:\n",
    "            bool: True if the signature is valid; False otherwise.\n",
    "        \"\"\"\n",
    "        pass\n",
    "\n",
    "    @abstractmethod\n",
    "    def hash(self, data: str) -> str:\n",
    "        \"\"\"\n",
    "        Compute a cryptographic hash of the provided data.\n",
    "\n",
    "        Args:\n",
    "            data (str): The data to be hashed.\n",
    "\n",
    "        Returns:\n",
    "            str: The resulting hash as a hexadecimal string.\n",
    "        \"\"\"\n",
    "        pass"
   ]
  },
  {
   "cell_type": "markdown",
   "metadata": {
    "id": "X0WTkasOzK8m"
   },
   "source": [
    "**Create the ECDSA / SHA256 Implementation `ECDSASHA256Provider`**"
   ]
  },
  {
   "cell_type": "code",
   "execution_count": null,
   "metadata": {
    "id": "rH1zVM3_x90V"
   },
   "outputs": [],
   "source": [
    "class ECDSASHA256Provider(CryptoProvider):\n",
    "    \"\"\"\n",
    "    Provides cryptographic operations using ECDSA with SHA-256 hashing.\n",
    "\n",
    "    This class implements the `CryptoProvider` interface, using the SECP256k1 elliptic curve\n",
    "    for ECDSA key generation, message signing, and signature verification, along with SHA-256\n",
    "    hashing for data integrity.\n",
    "    \"\"\"\n",
    "\n",
    "    def generate_key_pair(self) -> Tuple[bytes, bytes]:\n",
    "        \"\"\"\n",
    "        Generate a cryptographic ECDSA key pair.\n",
    "\n",
    "        Uses the SECP256k1 elliptic curve to generate a private and public key pair.\n",
    "\n",
    "        Returns:\n",
    "            Tuple[bytes, bytes]: A tuple containing the private and public keys as DER-encoded bytes.\n",
    "        \"\"\"\n",
    "        private_key = ecdsa.SigningKey.generate(curve=ecdsa.SECP256k1)\n",
    "        public_key = private_key.get_verifying_key()\n",
    "        return private_key.to_der(), public_key.to_der()\n",
    "\n",
    "    def sign(self, private_key: bytes, message: str) -> bytes:\n",
    "        \"\"\"\n",
    "        Sign a message using the provided ECDSA private key.\n",
    "\n",
    "        Args:\n",
    "            private_key (bytes): The private key in DER format.\n",
    "            message (str): The message to be signed.\n",
    "\n",
    "        Returns:\n",
    "            bytes: The generated signature as bytes.\n",
    "        \"\"\"\n",
    "        return ecdsa.SigningKey.from_der(private_key).sign(message.encode('utf-8'))\n",
    "\n",
    "    def verify(self, public_key: bytes, message: str, signature: bytes) -> bool:\n",
    "        \"\"\"\n",
    "        Verify a signature for a given message and ECDSA public key.\n",
    "\n",
    "        Args:\n",
    "            public_key (bytes): The public key in DER format used to verify the signature.\n",
    "            message (str): The message whose signature is to be verified.\n",
    "            signature (bytes): The signature to verify.\n",
    "\n",
    "        Returns:\n",
    "            bool: True if the signature is valid; False otherwise.\n",
    "        \"\"\"\n",
    "        try:\n",
    "            return ecdsa.VerifyingKey.from_der(public_key).verify(signature, message.encode('utf-8'))\n",
    "        except ecdsa.BadSignatureError:\n",
    "            return False\n",
    "\n",
    "    def hash(self, data: str) -> str:\n",
    "        \"\"\"\n",
    "        Compute a SHA-256 cryptographic hash of the provided data.\n",
    "\n",
    "        Args:\n",
    "            data (str): The data to be hashed.\n",
    "\n",
    "        Returns:\n",
    "            str: The resulting SHA-256 hash as a hexadecimal string.\n",
    "        \"\"\"\n",
    "        return hashlib.sha256(data.encode('utf-8')).hexdigest()\n"
   ]
  },
  {
   "cell_type": "markdown",
   "metadata": {
    "id": "ebJWM-dLYAyD"
   },
   "source": [
    "## 1.2 Create the Blockchain"
   ]
  },
  {
   "cell_type": "markdown",
   "metadata": {
    "id": "mDtuNB67rK8Q"
   },
   "source": [
    "**Create the `Transaction` class**"
   ]
  },
  {
   "cell_type": "code",
   "execution_count": null,
   "metadata": {
    "id": "RSYCZt3DN0NG"
   },
   "outputs": [],
   "source": [
    "class Transaction():\n",
    "    \"\"\"\n",
    "    Represents a blockchain transaction between a sender and a recipient.\n",
    "\n",
    "    This class contains the details of a transaction, including the sender, recipient,\n",
    "    amount, and a cryptographic provider for signing and verifying the transaction.\n",
    "    \"\"\"\n",
    "\n",
    "    def __init__(self, sender: str, recipient: str, amount: int, crypto_provider: CryptoProvider):\n",
    "        \"\"\"\n",
    "        Initialize a new transaction.\n",
    "\n",
    "        Args:\n",
    "            sender (str): The sender's public key as a base64-encoded string.\n",
    "            recipient (str): The recipient's public key as a base64-encoded string.\n",
    "            amount (int): The amount of funds to transfer.\n",
    "            crypto_provider (CryptoProvider): The cryptographic provider used for signing and verifying the transaction.\n",
    "        \"\"\"\n",
    "        self.sender = sender\n",
    "        self.recipient = recipient\n",
    "        self.amount = amount\n",
    "        self.crypto_provider = crypto_provider\n",
    "        self.signature = None\n",
    "\n",
    "    def sign_transaction(self, private_key: bytes):\n",
    "        \"\"\"\n",
    "        Sign the transaction using the sender's private key.\n",
    "\n",
    "        Args:\n",
    "            private_key (bytes): The sender's private key in bytes format.\n",
    "        \"\"\"\n",
    "        transaction_string = f'{self.sender}{self.recipient}{self.amount}{self.crypto_provider}'\n",
    "        self.signature = self.crypto_provider.sign(private_key, transaction_string)\n",
    "\n",
    "    def is_valid(self) -> bool:\n",
    "        \"\"\"\n",
    "        Verify the validity of the transaction signature.\n",
    "\n",
    "        Returns:\n",
    "            bool: True if the transaction signature is valid; False otherwise.\n",
    "        \"\"\"\n",
    "        transaction_string = f'{self.sender}{self.recipient}{self.amount}{self.crypto_provider}'\n",
    "        return self.crypto_provider.verify(base64.b64decode(self.sender), transaction_string, self.signature)"
   ]
  },
  {
   "cell_type": "markdown",
   "metadata": {
    "id": "QcY0eKR5sDWr"
   },
   "source": [
    "**Create the `Block` class**"
   ]
  },
  {
   "cell_type": "code",
   "execution_count": null,
   "metadata": {
    "id": "jwp1jnD_OHJi"
   },
   "outputs": [],
   "source": [
    "class Block():\n",
    "    \"\"\"\n",
    "    Represents a block in a blockchain.\n",
    "\n",
    "    Each block contains a list of transactions, a reference to the previous block's hash,\n",
    "    and is associated with a cryptographic provider for hashing and verification. The block\n",
    "    includes metadata such as a timestamp, a nonce for proof-of-work, and its own computed hash.\n",
    "    \"\"\"\n",
    "\n",
    "    def __init__(self, index: int, previous_hash: str, transactions: List[Transaction], crypto_provider: CryptoProvider, timestamp=None):\n",
    "        \"\"\"\n",
    "        Initialize a new block.\n",
    "\n",
    "        Args:\n",
    "            index (int): The index of the block in the blockchain.\n",
    "            previous_hash (str): The hash of the previous block in the chain.\n",
    "            transactions (List[Transaction]): A list of transactions included in the block.\n",
    "            crypto_provider (CryptoProvider): The cryptographic provider used for hashing and verification.\n",
    "            timestamp (float, optional): The timestamp of block creation. Defaults to the current time.\n",
    "        \"\"\"\n",
    "        self.index = index\n",
    "        self.previous_hash = previous_hash\n",
    "        self.transactions = transactions\n",
    "        self.crypto_provider = crypto_provider\n",
    "        self.timestamp = timestamp or time.time()\n",
    "        self.nonce = 0\n",
    "        self.hash = None\n",
    "\n",
    "    def compute_hash(self) -> str:\n",
    "        \"\"\"\n",
    "        Compute the cryptographic hash of the block's contents (block's index, previous hash, transactions, cryptographic provider, timestamp,\n",
    "        and nonce)\n",
    "\n",
    "        Returns:\n",
    "            str: The computed hash of the block as a hexadecimal string.\n",
    "        \"\"\"\n",
    "        block_string = f'{self.index}{self.previous_hash}{self.transactions}{self.crypto_provider}{self.timestamp}{self.nonce}'\n",
    "        return self.crypto_provider.hash(block_string)\n",
    "\n",
    "    def is_valid(self) -> bool:\n",
    "        \"\"\"\n",
    "        Verify the validity of the block. Checks that all transactions in the block are valid and that the block's hash matches\n",
    "        the computed hash based on its current contents.\n",
    "\n",
    "        Returns:\n",
    "            bool: True if the block is valid; False otherwise.\n",
    "        \"\"\"\n",
    "        if (\n",
    "            not all(transaction.is_valid() for transaction in self.transactions) or\n",
    "            self.hash != self.compute_hash()\n",
    "        ):\n",
    "            return False\n",
    "        return True"
   ]
  },
  {
   "cell_type": "markdown",
   "metadata": {
    "id": "aYpu0S9qspWX"
   },
   "source": [
    "**Create the `Blockchain` class**"
   ]
  },
  {
   "cell_type": "code",
   "execution_count": null,
   "metadata": {
    "id": "k2m8usqQPKEK"
   },
   "outputs": [],
   "source": [
    "class Blockchain():\n",
    "    \"\"\"\n",
    "    Represents a blockchain, which is a sequence of blocks containing transactions.\n",
    "\n",
    "    The blockchain maintains a chain of blocks, manages pending transactions, and enables\n",
    "    the mining process. It includes methods for validating the chain and retrieving balances\n",
    "    for specific addresses.\n",
    "    \"\"\"\n",
    "\n",
    "    def __init__(self, block_size: int, difficulty: int, crypto_provider: CryptoProvider):\n",
    "        \"\"\"\n",
    "        Initialize a new blockchain.\n",
    "\n",
    "        Args:\n",
    "            block_size (int): The maximum number of transactions per block.\n",
    "            difficulty (int): The difficulty level for the proof-of-work algorithm, determining the number of leading zeros required in the hash.\n",
    "            crypto_provider (CryptoProvider): The cryptographic provider used for hashing and verification.\n",
    "        \"\"\"\n",
    "        self.block_size = block_size\n",
    "        self.difficulty = difficulty\n",
    "        self.crypto_provider = crypto_provider\n",
    "        self.chain = []\n",
    "        self.pending_transactions = []\n",
    "        self._create_genesis_block()\n",
    "\n",
    "    def _create_genesis_block(self):\n",
    "        \"\"\"\n",
    "        Create the genesis (first) block in the blockchain. The genesis block has no previous hash, no transactions, and\n",
    "        is precomputed with a valid hash. Shouldnt' be called manually.\n",
    "        \"\"\"\n",
    "        genesis_block = Block(0, \"0\", [], self.crypto_provider)\n",
    "        genesis_block.hash = genesis_block.compute_hash()\n",
    "        self.chain.append(genesis_block)\n",
    "\n",
    "    def add_transaction(self, transaction: Transaction):\n",
    "        \"\"\"\n",
    "        Add a new transaction to the list of pending transactions.\n",
    "\n",
    "        Args:\n",
    "            transaction (Transaction): The transaction to be added to the blockchain.\n",
    "        \"\"\"\n",
    "        self.pending_transactions.append(transaction)\n",
    "\n",
    "    def mine_pending_transactions(self):\n",
    "        \"\"\"\n",
    "        Mine the pending transactions and add a new block to the blockchain. Mines transactions up to the block size limit,\n",
    "        computes the proof-of-work to meet the difficulty level, and adds the new block to the chain. Resets pending transactions\n",
    "        after the block is mined.\n",
    "\n",
    "        Returns:\n",
    "            str: Message indicating if there were no transactions to mine.\n",
    "        \"\"\"\n",
    "        if not self.pending_transactions:\n",
    "            return \"No transactions to mine.\"\n",
    "        block = Block(len(self.chain), self.chain[-1].compute_hash(), self.pending_transactions[:self.block_size], self.crypto_provider)\n",
    "        while not block.compute_hash().startswith('0' * self.difficulty):\n",
    "            block.nonce += 1\n",
    "        block.hash = block.compute_hash()\n",
    "        self.chain.append(block)\n",
    "        self.pending_transactions = self.pending_transactions[self.block_size:]\n",
    "\n",
    "    def is_valid(self) -> bool:\n",
    "        \"\"\"\n",
    "        Verify the integrity of the blockchain. Checks each block in the chain to ensure all blocks are valid and that the hashes\n",
    "        link correctly to maintain the chain's integrity.\n",
    "\n",
    "        Returns:\n",
    "            bool: True if the blockchain is valid; False otherwise.\n",
    "        \"\"\"\n",
    "        for i in range(1, len(self.chain)):\n",
    "            current_block = self.chain[i]\n",
    "            previous_block = self.chain[i - 1]\n",
    "            if (\n",
    "                not current_block.is_valid() or\n",
    "                current_block.previous_hash != previous_block.hash\n",
    "            ):\n",
    "                return False\n",
    "        return True\n",
    "\n",
    "    def get_balance(self, address):\n",
    "        \"\"\"\n",
    "        Calculate the balance for a given address. Iterates through the blockchain to sum up all transactions related to the specified\n",
    "        address to determine the current balance.\n",
    "\n",
    "        Args:\n",
    "            address (str): The address to calculate the balance for.\n",
    "\n",
    "        Returns:\n",
    "            int: The balance of the specified address.\n",
    "        \"\"\"\n",
    "        balance = 0\n",
    "        for block in self.chain:\n",
    "            for transaction in block.transactions:\n",
    "                if transaction.recipient == address:\n",
    "                    balance += transaction.amount\n",
    "                if transaction.sender == address:\n",
    "                    balance -= transaction.amount\n",
    "        return balance"
   ]
  },
  {
   "cell_type": "markdown",
   "metadata": {
    "id": "MdIfWZBxtAJv"
   },
   "source": [
    "**Add methods to display the full blockchain as a printable string**"
   ]
  },
  {
   "cell_type": "code",
   "execution_count": null,
   "metadata": {
    "id": "YmUQ_gM-m9TF"
   },
   "outputs": [],
   "source": [
    "def convert_transaction_to_string(self) -> str:\n",
    "    return (\n",
    "        \"\\n\"\n",
    "        f\"  | Sender:     {self.sender}\\n\"\n",
    "        f\"  | Recipient:  {self.recipient}\\n\"\n",
    "        f\"  | Amount:     {self.amount}\\n\"\n",
    "        f\"  | Signature:  {base64.b64encode(self.signature).decode('utf-8')}\"\n",
    "    )\n",
    "\n",
    "Transaction.__str__ = convert_transaction_to_string\n",
    "del convert_transaction_to_string\n",
    "\n",
    "def convert_block_to_string(self) -> str:\n",
    "        return (\n",
    "            f\"Block #{self.index}\\n\"\n",
    "            f\"Previous Hash: {self.previous_hash}\\n\"\n",
    "            f\"Transactions:\" + \"\\n  | \".join(str(transaction) for transaction in self.transactions) + \"\\n\"\n",
    "            f\"Timestamp: {self.timestamp}\\n\"\n",
    "            f\"Nonce: {self.nonce}\\n\"\n",
    "            f\"Hash: {self.hash}\"\n",
    "        )\n",
    "\n",
    "Block.__str__ = convert_block_to_string\n",
    "del convert_block_to_string\n",
    "\n",
    "def convert_blockchain_to_string(self) -> str:\n",
    "    return (\n",
    "        f\"Blockchain with Blocksize {self.block_size} and Difficulty {self.difficulty}\\n\\n\"\n",
    "        + \"\\n\\n\".join(str(block) for block in self.chain) + \"\\n\"\n",
    "        + \"\\nPending Transactions:\" + \"\\n  | \".join(str(transaction) for transaction in self.pending_transactions) + \"\\n\"\n",
    "    )\n",
    "\n",
    "Blockchain.__str__ = convert_blockchain_to_string\n",
    "del convert_blockchain_to_string"
   ]
  },
  {
   "cell_type": "markdown",
   "metadata": {
    "id": "oksxvTIRausU"
   },
   "source": [
    "## 1.3 Test the Blockchain"
   ]
  },
  {
   "cell_type": "code",
   "execution_count": null,
   "metadata": {
    "colab": {
     "base_uri": "https://localhost:8080/"
    },
    "id": "jBXPicJeQ4jK",
    "outputId": "01169b5f-ba7d-4dca-8263-26ad5a89d438"
   },
   "outputs": [
    {
     "name": "stdout",
     "output_type": "stream",
     "text": [
      "Blockchain with Blocksize 2 and Difficulty 3\n",
      "\n",
      "Block #0\n",
      "Previous Hash: 0\n",
      "Transactions:\n",
      "Timestamp: 1731963543.1517699\n",
      "Nonce: 0\n",
      "Hash: 655cd6e888d5813680490d8786022163d829ce12d13afeda2476e46f218d019e\n",
      "\n",
      "Block #1\n",
      "Previous Hash: 655cd6e888d5813680490d8786022163d829ce12d13afeda2476e46f218d019e\n",
      "Transactions:\n",
      "  | Sender:     MFYwEAYHKoZIzj0CAQYFK4EEAAoDQgAEcDCCs0k2O6iVpn/m36lSrRU7XoLtYv1LT/m17/oalVO259NaPsXDa6nQG+1hWY1kNslqh8EOuu4AKmsC6eqZEg==\n",
      "  | Recipient:  MFYwEAYHKoZIzj0CAQYFK4EEAAoDQgAEmFPypusHfcWJYkR7UN/j7GaTowoepPVPMUYf2Qc3vZ37+hPNmdlTEeIZOpzeqrwm4XQTXTCMfzQA5jOQLtqrgQ==\n",
      "  | Amount:     30\n",
      "  | Signature:  24g6fr5Q5/N8152FTCT6oVLOa1MDlTQXfRIC3nMdrHE+f5QJMqPJN+EHyPf7Vw65WG/eDWgFypCjPyYt0VMd8g==\n",
      "  | \n",
      "  | Sender:     MFYwEAYHKoZIzj0CAQYFK4EEAAoDQgAEmFPypusHfcWJYkR7UN/j7GaTowoepPVPMUYf2Qc3vZ37+hPNmdlTEeIZOpzeqrwm4XQTXTCMfzQA5jOQLtqrgQ==\n",
      "  | Recipient:  MFYwEAYHKoZIzj0CAQYFK4EEAAoDQgAEcDCCs0k2O6iVpn/m36lSrRU7XoLtYv1LT/m17/oalVO259NaPsXDa6nQG+1hWY1kNslqh8EOuu4AKmsC6eqZEg==\n",
      "  | Amount:     10\n",
      "  | Signature:  Sj+ru574QIF3X3nIL5xyPE3HD2M2DvxE/PA34E75oKNrjJUDLzQKk9d31npUtNPDFHK453C/cS9wnLceKbWCrQ==\n",
      "Timestamp: 1731963543.1520598\n",
      "Nonce: 3776\n",
      "Hash: 000a159c0c9e76292c7a7df8d07dd5d44e41f07b9f2e1d1aba22e899243e0b71\n",
      "\n",
      "Pending Transactions:\n",
      "  | Sender:     MFYwEAYHKoZIzj0CAQYFK4EEAAoDQgAEmFPypusHfcWJYkR7UN/j7GaTowoepPVPMUYf2Qc3vZ37+hPNmdlTEeIZOpzeqrwm4XQTXTCMfzQA5jOQLtqrgQ==\n",
      "  | Recipient:  MFYwEAYHKoZIzj0CAQYFK4EEAAoDQgAEcDCCs0k2O6iVpn/m36lSrRU7XoLtYv1LT/m17/oalVO259NaPsXDa6nQG+1hWY1kNslqh8EOuu4AKmsC6eqZEg==\n",
      "  | Amount:     15\n",
      "  | Signature:  yY+FD/SHuL8v85cH+DN+N9oLsPwRD2A7poX7d5pnJoyY8pFdIU+0+9PG+BN6TVdwo3Ys80LBt+2NiaLIye5w5Q==\n",
      "\n",
      "\n",
      "Checking the balances of the addresses...\n",
      "Balance of address1(MFYwEAYHKoZIzj0CAQYFK4EEAAoDQgAEcDCCs0k2O6iVpn/m36lSrRU7XoLtYv1LT/m17/oalVO259NaPsXDa6nQG+1hWY1kNslqh8EOuu4AKmsC6eqZEg==): -20\n",
      "Balance of address2(MFYwEAYHKoZIzj0CAQYFK4EEAAoDQgAEmFPypusHfcWJYkR7UN/j7GaTowoepPVPMUYf2Qc3vZ37+hPNmdlTEeIZOpzeqrwm4XQTXTCMfzQA5jOQLtqrgQ==): 20\n",
      "\n",
      "Mining the last pending transaction...\n",
      "Checking the balances of the addresses again...\n",
      "Balance of address1(MFYwEAYHKoZIzj0CAQYFK4EEAAoDQgAEcDCCs0k2O6iVpn/m36lSrRU7XoLtYv1LT/m17/oalVO259NaPsXDa6nQG+1hWY1kNslqh8EOuu4AKmsC6eqZEg==): -5\n",
      "Balance of address2(MFYwEAYHKoZIzj0CAQYFK4EEAAoDQgAEmFPypusHfcWJYkR7UN/j7GaTowoepPVPMUYf2Qc3vZ37+hPNmdlTEeIZOpzeqrwm4XQTXTCMfzQA5jOQLtqrgQ==): 5\n",
      "\n",
      "Checking the validity of the blockchain...\n",
      "Blockchain validity: True\n",
      "Modifying blockchain...\n",
      "Blockchain validity: False\n"
     ]
    }
   ],
   "source": [
    "crypto_provider = ECDSASHA256Provider()\n",
    "private_key1, public_key1 = crypto_provider.generate_key_pair()\n",
    "address1 = base64.b64encode(public_key1).decode(\"utf-8\")\n",
    "private_key2, public_key2 = crypto_provider.generate_key_pair()\n",
    "address2 = base64.b64encode(public_key2).decode(\"utf-8\")\n",
    "\n",
    "transaction1 = Transaction(address1, address2, 30, crypto_provider)\n",
    "transaction1.sign_transaction(private_key1)\n",
    "\n",
    "transaction2 = Transaction(address2, address1, 10, crypto_provider)\n",
    "transaction2.sign_transaction(private_key2)\n",
    "\n",
    "transaction3 = Transaction(address2, address1, 15, crypto_provider)\n",
    "transaction3.sign_transaction(private_key2)\n",
    "\n",
    "blockchain = Blockchain(2, 3, crypto_provider)\n",
    "blockchain.add_transaction(transaction1)\n",
    "blockchain.add_transaction(transaction2)\n",
    "blockchain.add_transaction(transaction3)\n",
    "blockchain.mine_pending_transactions()\n",
    "\n",
    "print(blockchain)\n",
    "\n",
    "print(\"\\nChecking the balances of the addresses...\")\n",
    "print(f\"Balance of address1({address1}): {blockchain.get_balance(address1)}\")\n",
    "print(f\"Balance of address2({address2}): {blockchain.get_balance(address2)}\")\n",
    "\n",
    "blockchain.mine_pending_transactions()\n",
    "print(\"\\nMining the last pending transaction...\")\n",
    "print(\"Checking the balances of the addresses again...\")\n",
    "print(f\"Balance of address1({address1}): {blockchain.get_balance(address1)}\")\n",
    "print(f\"Balance of address2({address2}): {blockchain.get_balance(address2)}\")\n",
    "\n",
    "print(\"\\nChecking the validity of the blockchain...\")\n",
    "print(f\"Blockchain validity: {blockchain.is_valid()}\")\n",
    "\n",
    "blockchain.chain[1].transactions[1].amount = 20\n",
    "print(\"Modifying blockchain...\")\n",
    "print(f\"Blockchain validity: {blockchain.is_valid()}\")"
   ]
  },
  {
   "cell_type": "code",
   "execution_count": null,
   "metadata": {
    "colab": {
     "base_uri": "https://localhost:8080/"
    },
    "id": "jrPE2KwT--T5",
    "outputId": "533af6b8-e905-441e-a239-f4b32e8f13fd"
   },
   "outputs": [
    {
     "name": "stdout",
     "output_type": "stream",
     "text": [
      "Private Key 1 Size: 151 bytes\n",
      "Public Key 1 Size: 121 bytes\n",
      "Transaction 1 Signature Size: 97 bytes\n",
      "Blockchain Storage Size: 1.99 KB\n"
     ]
    }
   ],
   "source": [
    "private_key1_size = sys.getsizeof(private_key1)\n",
    "public_key1_size = sys.getsizeof(public_key1)\n",
    "print(f\"Private Key 1 Size: {private_key1_size} bytes\")\n",
    "print(f\"Public Key 1 Size: {public_key1_size} bytes\")\n",
    "\n",
    "transaction1_signature_size = sys.getsizeof(transaction1.signature)\n",
    "print(f\"Transaction 1 Signature Size: {transaction1_signature_size} bytes\")\n",
    "\n",
    "blockchain_data = json.dumps([block.__dict__ for block in blockchain.chain], default=str).encode()\n",
    "blockchain_size = sys.getsizeof(blockchain_data)\n",
    "print(f\"Blockchain Storage Size: {blockchain_size / 1024:.2f} KB\")"
   ]
  },
  {
   "cell_type": "markdown",
   "metadata": {
    "id": "Mmz3uo6ta25i"
   },
   "source": [
    "#3. Implement a selection of Post-Quantum-CryptoProviders for our Blockchain"
   ]
  },
  {
   "cell_type": "markdown",
   "metadata": {
    "id": "h9cCsQsGdWO6"
   },
   "source": [
    "## SPHINCS+\n",
    "\n",
    "For SPHINCS+, there exists a Python package called pyspx.\n",
    "\n",
    "Documentation is available here:\n",
    "- https://github.com/sphincs/pyspx\n",
    "- https://pypi.org/project/PySPX/\n",
    "\n",
    "pyspx provides capabilites for generating public-private key pairs, signing and verifying messages.\n",
    "\n",
    "Example usage: https://github.com/nakov/Practical-Cryptography-for-Developers-Book/blob/3cbe60554b9a1fce016a41fce708525adcd0323f/quantum-safe-cryptography/quantum-safe-signatures-example.md\n",
    "\n",
    "\n",
    "SPHINCS+ uses tweakable hash functions. The official document (https://sphincs.org/data/sphincs+-specification.pdf) defines three different signature schemes which are obtained by instantiating the cryptographic function families of SPHINCS+ with SHA-256, SHAKE256, and Haraka.\n",
    "\n",
    "The following implementation uses SHAKE256, as there is existing support in pyspx."
   ]
  },
  {
   "cell_type": "code",
   "execution_count": null,
   "metadata": {
    "colab": {
     "base_uri": "https://localhost:8080/"
    },
    "id": "MHSkjxW4Zbzw",
    "outputId": "a413c0ba-558d-464a-b652-75a1843e68b2"
   },
   "outputs": [
    {
     "name": "stdout",
     "output_type": "stream",
     "text": [
      "Collecting pyspx\n",
      "  Downloading PySPX-0.5.0-cp310-cp310-manylinux_2_17_x86_64.manylinux2014_x86_64.manylinux_2_28_x86_64.whl.metadata (10 kB)\n",
      "Requirement already satisfied: cffi>=1.0.0 in /usr/local/lib/python3.10/dist-packages (from pyspx) (1.17.1)\n",
      "Requirement already satisfied: pycparser in /usr/local/lib/python3.10/dist-packages (from cffi>=1.0.0->pyspx) (2.22)\n",
      "Downloading PySPX-0.5.0-cp310-cp310-manylinux_2_17_x86_64.manylinux2014_x86_64.manylinux_2_28_x86_64.whl (1.4 MB)\n",
      "\u001b[?25l   \u001b[90m━━━━━━━━━━━━━━━━━━━━━━━━━━━━━━━━━━━━━━━━\u001b[0m \u001b[32m0.0/1.4 MB\u001b[0m \u001b[31m?\u001b[0m eta \u001b[36m-:--:--\u001b[0m\r",
      "\u001b[2K   \u001b[91m━━━━━━━━━━━━━━━\u001b[0m\u001b[91m╸\u001b[0m\u001b[90m━━━━━━━━━━━━━━━━━━━━━━━━\u001b[0m \u001b[32m0.6/1.4 MB\u001b[0m \u001b[31m16.5 MB/s\u001b[0m eta \u001b[36m0:00:01\u001b[0m\r",
      "\u001b[2K   \u001b[90m━━━━━━━━━━━━━━━━━━━━━━━━━━━━━━━━━━━━━━━━\u001b[0m \u001b[32m1.4/1.4 MB\u001b[0m \u001b[31m23.9 MB/s\u001b[0m eta \u001b[36m0:00:00\u001b[0m\n",
      "\u001b[?25hInstalling collected packages: pyspx\n",
      "Successfully installed pyspx-0.5.0\n"
     ]
    }
   ],
   "source": [
    "pip install pyspx"
   ]
  },
  {
   "cell_type": "code",
   "execution_count": null,
   "metadata": {
    "id": "ZnA8jZ2tEmx8"
   },
   "outputs": [],
   "source": [
    "import pyspx.shake_128f as sphincs  # Assuming SPHINCS+ shake256 with 128-bit security\n",
    "\n",
    "class SphincsProvider(CryptoProvider):\n",
    "    \"\"\"\n",
    "    SphincsProvider implements the SPHINCS+ cryptographic operations for key generation,\n",
    "    signing, signature verification, and hashing using the post-quantum secure SPHINCS+ method.\n",
    "    \"\"\"\n",
    "\n",
    "    def __repr__(self) -> str:\n",
    "        return \"SphincsProvider\"\n",
    "\n",
    "    def generate_key_pair(self) -> Tuple[bytes, bytes]:\n",
    "        \"\"\"\n",
    "        Generate a SPHINCS+ key pair.\n",
    "\n",
    "        Returns:\n",
    "            Tuple[bytes, bytes]: A tuple containing the private and public keys as bytes.\n",
    "        \"\"\"\n",
    "        seed = os.urandom(sphincs.crypto_sign_SEEDBYTES)\n",
    "        public_key, private_key = sphincs.generate_keypair(seed)\n",
    "        return private_key, public_key\n",
    "\n",
    "    def sign(self, private_key: bytes, message: str) -> bytes:\n",
    "        \"\"\"\n",
    "        Sign a message using the provided SPHINCS+ private key.\n",
    "\n",
    "        Args:\n",
    "            private_key (bytes): The private key used to sign the message.\n",
    "            message (str): The message to be signed.\n",
    "\n",
    "        Returns:\n",
    "            bytes: The generated signature as bytes.\n",
    "        \"\"\"\n",
    "        message_bytes = message.encode('utf-8')\n",
    "        signature = sphincs.sign(message_bytes, private_key)\n",
    "        return signature\n",
    "\n",
    "    def verify(self, public_key: bytes, message: str, signature: bytes) -> bool:\n",
    "        \"\"\"\n",
    "        Verify a signature for a given message and SPHINCS+ public key.\n",
    "\n",
    "        Args:\n",
    "            public_key (bytes): The public key used to verify the signature.\n",
    "            message (str): The message whose signature is to be verified.\n",
    "            signature (bytes): The signature to verify.\n",
    "\n",
    "        Returns:\n",
    "            bool: True if the signature is valid; False otherwise.\n",
    "        \"\"\"\n",
    "        message_bytes = message.encode('utf-8')\n",
    "        try:\n",
    "            return sphincs.verify(signature, message_bytes, public_key)\n",
    "        except Exception:\n",
    "            return False\n",
    "\n",
    "    def hash(self, data: str) -> str:\n",
    "        \"\"\"\n",
    "        Compute a cryptographic hash of the provided data using SHAKE-256.\n",
    "\n",
    "        Args:\n",
    "            data (str): The data to be hashed.\n",
    "\n",
    "        Returns:\n",
    "            str: The resulting hash as a hexadecimal string.\n",
    "        \"\"\"\n",
    "        hasher = hashlib.shake_256()\n",
    "        hasher.update(data.encode('utf-8'))\n",
    "        return hasher.hexdigest(64)  # 64 hex digits for 256-bit output\n"
   ]
  },
  {
   "cell_type": "code",
   "execution_count": null,
   "metadata": {
    "colab": {
     "base_uri": "https://localhost:8080/"
    },
    "id": "bFqyTTedZgE1",
    "outputId": "9df41a52-1f73-4d5e-ba33-428714e3d456"
   },
   "outputs": [
    {
     "name": "stdout",
     "output_type": "stream",
     "text": [
      "Blockchain with Blocksize 2 and Difficulty 3\n",
      "\n",
      "Block #0\n",
      "Previous Hash: 0\n",
      "Transactions:\n",
      "Timestamp: 1732796012.7620676\n",
      "Nonce: 0\n",
      "Hash: 4cf2f14a308195261b54e9f5dabe6413767584e748f4b69185216a7f0a01340140a041ce0ba8d3baae5dad9a9546d5b916fa9bad1b63c22d010fb703a5f09621\n",
      "\n",
      "Block #1\n",
      "Previous Hash: 4cf2f14a308195261b54e9f5dabe6413767584e748f4b69185216a7f0a01340140a041ce0ba8d3baae5dad9a9546d5b916fa9bad1b63c22d010fb703a5f09621\n",
      "Transactions:\n",
      "  | Sender:     DwnpaQJTkya+k4+nfd7Ax5iJeAJsFNK3PAA9rD7ZFkA=\n",
      "  | Recipient:  Gvo7ssAbQjT9RZTUrvPqZVYOseuhar2OiyaeRa3B228=\n",
      "  | Amount:     30\n",
      "  | Signature:  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\n",
      "  | \n",
      "  | Sender:     Gvo7ssAbQjT9RZTUrvPqZVYOseuhar2OiyaeRa3B228=\n",
      "  | Recipient:  DwnpaQJTkya+k4+nfd7Ax5iJeAJsFNK3PAA9rD7ZFkA=\n",
      "  | Amount:     10\n",
      "  | Signature:  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\n",
      "Timestamp: 1732796012.7622051\n",
      "Nonce: 1603\n",
      "Hash: 0005e37a219d2984cf715c21f8329469185e3dbc54146062ec3fbad9e65d554b11ab75ea2ccc583445107a1a8944579bc32b6e342c549f4ed366ab6850de5776\n",
      "\n",
      "Pending Transactions:\n",
      "  | Sender:     Gvo7ssAbQjT9RZTUrvPqZVYOseuhar2OiyaeRa3B228=\n",
      "  | Recipient:  DwnpaQJTkya+k4+nfd7Ax5iJeAJsFNK3PAA9rD7ZFkA=\n",
      "  | Amount:     15\n",
      "  | Signature:  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\n",
      "\n",
      "Balance of address1(DwnpaQJTkya+k4+nfd7Ax5iJeAJsFNK3PAA9rD7ZFkA=): -20\n",
      "Balance of address2(Gvo7ssAbQjT9RZTUrvPqZVYOseuhar2OiyaeRa3B228=): 20\n",
      "Balance of address1(DwnpaQJTkya+k4+nfd7Ax5iJeAJsFNK3PAA9rD7ZFkA=): -5\n",
      "Balance of address2(Gvo7ssAbQjT9RZTUrvPqZVYOseuhar2OiyaeRa3B228=): 5\n",
      "Blockchain validity: False\n",
      "Blockchain validity after modification: False\n",
      "Private Key 1 Size: 97 bytes\n",
      "Public Key 1 Size: 65 bytes\n",
      "Transaction 1 Signature Size: 17121 bytes\n",
      "Blockchain Storage Size: 68.34 KB\n"
     ]
    }
   ],
   "source": [
    "crypto_provider = SphincsProvider()\n",
    "private_key1, public_key1 = crypto_provider.generate_key_pair()\n",
    "address1 = base64.b64encode(public_key1).decode(\"utf-8\")\n",
    "private_key2, public_key2 = crypto_provider.generate_key_pair()\n",
    "address2 = base64.b64encode(public_key2).decode(\"utf-8\")\n",
    "\n",
    "transaction1 = Transaction(address1, address2, 30, crypto_provider)\n",
    "transaction1.sign_transaction(private_key1)\n",
    "\n",
    "transaction2 = Transaction(address2, address1, 10, crypto_provider)\n",
    "transaction2.sign_transaction(private_key2)\n",
    "\n",
    "transaction3 = Transaction(address2, address1, 15, crypto_provider)\n",
    "transaction3.sign_transaction(private_key2)\n",
    "\n",
    "blockchain = Blockchain(2, 3, crypto_provider)\n",
    "blockchain.add_transaction(transaction1)\n",
    "blockchain.add_transaction(transaction2)\n",
    "blockchain.add_transaction(transaction3)\n",
    "blockchain.mine_pending_transactions()\n",
    "\n",
    "print(blockchain)\n",
    "\n",
    "print(f\"Balance of address1({address1}): {blockchain.get_balance(address1)}\")\n",
    "print(f\"Balance of address2({address2}): {blockchain.get_balance(address2)}\")\n",
    "\n",
    "blockchain.mine_pending_transactions()\n",
    "\n",
    "print(f\"Balance of address1({address1}): {blockchain.get_balance(address1)}\")\n",
    "print(f\"Balance of address2({address2}): {blockchain.get_balance(address2)}\")\n",
    "\n",
    "print(f\"Blockchain validity: {blockchain.is_valid()}\")\n",
    "blockchain.chain[1].transactions[1].amount = 20\n",
    "print(f\"Blockchain validity after modification: {blockchain.is_valid()}\")\n",
    "\n",
    "\n",
    "private_key1_size = sys.getsizeof(private_key1)\n",
    "public_key1_size = sys.getsizeof(public_key1)\n",
    "print(f\"Private Key 1 Size: {private_key1_size} bytes\")\n",
    "print(f\"Public Key 1 Size: {public_key1_size} bytes\")\n",
    "\n",
    "transaction1_signature_size = sys.getsizeof(transaction1.signature)\n",
    "print(f\"Transaction 1 Signature Size: {transaction1_signature_size} bytes\")\n",
    "\n",
    "blockchain_data = json.dumps([block.__dict__ for block in blockchain.chain], default=str).encode()\n",
    "blockchain_size = sys.getsizeof(blockchain_data)\n",
    "print(f\"Blockchain Storage Size: {blockchain_size / 1024:.2f} KB\")"
   ]
  },
  {
   "cell_type": "markdown",
   "metadata": {
    "id": "R6pWSdbIvYnX"
   },
   "source": [
    "## Dilithium\n",
    "\n",
    "https://pypi.org/project/dilithium/#description"
   ]
  },
  {
   "cell_type": "code",
   "execution_count": null,
   "metadata": {
    "colab": {
     "base_uri": "https://localhost:8080/"
    },
    "id": "2kusryIibe3g",
    "outputId": "2e409097-4b31-4976-c7b6-7122c20d8642"
   },
   "outputs": [
    {
     "name": "stdout",
     "output_type": "stream",
     "text": [
      "Collecting dilithium\n",
      "  Downloading dilithium-1.0.6-py3-none-any.whl.metadata (8.3 kB)\n",
      "Collecting pycryptodome>=03.14.1 (from dilithium)\n",
      "  Downloading pycryptodome-3.21.0-cp36-abi3-manylinux_2_17_x86_64.manylinux2014_x86_64.whl.metadata (3.4 kB)\n",
      "Downloading dilithium-1.0.6-py3-none-any.whl (26 kB)\n",
      "Downloading pycryptodome-3.21.0-cp36-abi3-manylinux_2_17_x86_64.manylinux2014_x86_64.whl (2.3 MB)\n",
      "\u001b[2K   \u001b[90m━━━━━━━━━━━━━━━━━━━━━━━━━━━━━━━━━━━━━━━━\u001b[0m \u001b[32m2.3/2.3 MB\u001b[0m \u001b[31m38.6 MB/s\u001b[0m eta \u001b[36m0:00:00\u001b[0m\n",
      "\u001b[?25hInstalling collected packages: pycryptodome, dilithium\n",
      "Successfully installed dilithium-1.0.6 pycryptodome-3.21.0\n"
     ]
    }
   ],
   "source": [
    "pip install dilithium"
   ]
  },
  {
   "cell_type": "code",
   "execution_count": null,
   "metadata": {
    "id": "8UZLh6gxbZGu"
   },
   "outputs": [],
   "source": [
    "from dilithium.dilithium import Dilithium2 as Dilithium\n",
    "\n",
    "class DilithiumProvider(CryptoProvider):\n",
    "    \"\"\"\n",
    "    DilithiumProvider implements the CRYSTALS-Dilithium cryptographic operations for key generation,\n",
    "    signing, signature verification, and hashing using the post-quantum secure Dilithium method.\n",
    "    \"\"\"\n",
    "\n",
    "    def __repr__(self) -> str:\n",
    "        return \"DilithiumProvider\"\n",
    "\n",
    "    def generate_key_pair(self) -> Tuple[bytes, bytes]:\n",
    "        \"\"\"\n",
    "        Generate a Dilithium key pair.\n",
    "\n",
    "        Returns:\n",
    "            Tuple[bytes, bytes]: A tuple containing the private and public keys as bytes.\n",
    "        \"\"\"\n",
    "        key_seed = os.urandom(32)\n",
    "        public_key, private_key  = Dilithium.keygen(key_seed)\n",
    "        return private_key, public_key\n",
    "\n",
    "    def sign(self, private_key: bytes, message: str) -> bytes:\n",
    "        \"\"\"\n",
    "        Sign a message using the provided Dilithium private key.\n",
    "\n",
    "        Args:\n",
    "            private_key (bytes): The private key used to sign the message.\n",
    "            message (str): The message to be signed.\n",
    "\n",
    "        Returns:\n",
    "            bytes: The generated signature as bytes.\n",
    "        \"\"\"\n",
    "        message_bytes = message.encode('utf-8')\n",
    "        signature = Dilithium.sign_with_input(private_key, message_bytes)\n",
    "        return signature\n",
    "\n",
    "    def verify(self, public_key: bytes, message: str, signature: bytes) -> bool:\n",
    "        \"\"\"\n",
    "        Verify a signature for a given message and Dilithium public key.\n",
    "\n",
    "        Args:\n",
    "            public_key (bytes): The public key used to verify the signature.\n",
    "            message (str): The message whose signature is to be verified.\n",
    "            signature (bytes): The signature to verify.\n",
    "\n",
    "        Returns:\n",
    "            bool: True if the signature is valid; False otherwise.\n",
    "        \"\"\"\n",
    "        message_bytes = message.encode('utf-8')\n",
    "        try:\n",
    "            Dilithium.verify(public_key, message_bytes, signature)\n",
    "            return True\n",
    "        except Exception:\n",
    "            return False\n",
    "\n",
    "    def hash(self, data: str) -> str:\n",
    "        \"\"\"\n",
    "        Compute a cryptographic hash of the provided data using SHA-256.\n",
    "\n",
    "        Args:\n",
    "            data (str): The data to be hashed.\n",
    "\n",
    "        Returns:\n",
    "            str: The resulting hash as a hexadecimal string.\n",
    "        \"\"\"\n",
    "        hasher = hashlib.sha256()\n",
    "        hasher.update(data.encode('utf-8'))\n",
    "        return hasher.hexdigest()"
   ]
  },
  {
   "cell_type": "code",
   "execution_count": null,
   "metadata": {
    "colab": {
     "base_uri": "https://localhost:8080/"
    },
    "id": "qEbcgUrGcrnJ",
    "outputId": "7d17be56-020a-446a-861a-94b13a2575de"
   },
   "outputs": [
    {
     "name": "stdout",
     "output_type": "stream",
     "text": [
      "tr =  b'\\xa1\\xa3\\xbc\\xb5\\x9d\\xcc\\xdd\\xdf~6c\\xfb\\x80\\xcc7\\x8eY\\x0e\\xf3\\xfa\\xbe\\xea\\x06\\xc0#\\x9d\\x8ev\\xe6\\x91\\xa0m'\n",
      "m =  b'TuHqgtqxkyrBXyuR9Z82cowweDwHQOwe7zJTICAi+agzhLzxos3Z/aYc07mrhjPL6D1KlwNCd02Wa+8O3HcYGaRTCbw2Ae6MVPNYlQQRZIbf2ogK36Nti/3WLZTilBerAjH13+cni+zNiAsoG1jUEKdfYuTtTKhDLLkoy3J9Fd3xujazPbFHEw6Gf6Jc+Bep+XUcBP9tuDBzasPwNPeXDmODUYFqcBKXQi2wvM4vtmsz4jmwoB9qtmiM/oEaao5Pc4YGz93oJtADp5Y11+Rc2cjFqTMgUh5MQlO8XURGdcUnHUdvFiAgCA7hPg5TYmTykp28kn4eJLxzPejlrAKT9WXjUZlUfTzWZ3BNPoXGFUgAGVePL7eB+h5CJy+KCsQJsYNNYDq9iz4Wzzb/OwJY3psXOd7soIZsKBtk+mSNxg9OO6XQIDHNo/sZslwtzK+XZFkcrBjfYrC3j9OSdSKqwxnNlcWWUyP7Z/HXsQGYfZVdoGWkqRkYqf70CrnLuR7vGRinYBLeJPdpk3JmqRHo7NKlqr/nnGYq1Ti29eeEZ0TcBBp54CvHt84kP8rrgCOAxPo3Qs1jNqXQsxvddirEe1AzPTiwygerCzXpDezBbquVwlk7Y54T7KJm8ebqhqfrVr7Y5kq75Nqryni6dyk3F8SpZBHvPbcknjRuJBJhT/0cBRDjFiaujZEue4Vf8DO7yvRFZjISzK/Pfn0TRTzYCeBlBWh6eT3T/FZLxSSo7byTqCuHA7HcCbfc9SMcjtYOummCme5fLOcGBsUzLiZ537ISJwnZJFf3QAAm4IxdD/LtW2PmFbB0s9yB3CMNJOF2CWuBWcMCwjs8s2IgYRGG899vq5NSXurQ90w/oYMHoMX9R00oIoY4iRmJck1EmuyJJGAQnmXRF7KqQOJ9GLSllANCQq0JlvMVwjR6tFtxBEUPEDvOhOOnY0RsQa4A19O9+/wQYFbxM4Zkf8TqFK6buy2thW85KuTBvu6Wl2ybPU1m4Gmh5gkg+pmRm/PXnEKe/dVqRxAaom7KqTaugGsTAmY040AdPAZeKBSksEtxfeuGO1zkFZGfu39qlucB/6GG/T3JGXHrJ5RaHufe1tvNu2BwkV1vSNDjdmwZYt/jXNjV7wEdh7AwcEEymmRlp28gQgC+yb3dTFil4w6aopOIvBk36XCrIrzDk23rrOaqsq3fcnBbwx1S0Ozcq/ND4lohIUzxEOluAJhzr0QCHaiNFmvJjyyjSpod8Rjx3l4bpaWpPrcILR/lAjnC0UNfZYC1MJZoA912tO/Ux60pvn1HB4WoQ1IkrQ1+EUWj5L+QfFl4XOlRqZ3/loo3kSbbhxUK/GRqYB1UED4QBX/DGFgr3YOgWvx7XOFlT55NISVuwyOnlNv3BOR1h9ZazwqOlVV4QfyLIFgfXAJyxKT/lOLekwMRTQVQTA+NaaKlXuirqLBgTSx9P2jbrcQGQ6ffkp/G6EZ1K4eq1KVXO/vvRA14uIJitRaJIstThaEig/H8N6CEWQf/AjyJ0KYwb+ixvAZsoMP3GESpbEBcXvt8fdERSXYnLrjCs2FtbPFqP7T/vIjjJxGHU+I7SZgfuSxs+IuN8JFzE0PFWONBNFopg/v8qe69t5L/yRKzYxhp0pLCjz8A7ivDVbZyw+Vqp5vIoib0rVe8tlvYaNpwirptJHvUMSXFdVZz+nG7eVX9xKpNvi79WxhwQYZJtQGYETGubmGzqqrIzmRBs9QlzBUUn5a0WA==7e0uYpb2kcz89/n4syWQyU6Cn7pfdxtWk+Q7ab5IVJx9SGubtZHYTqoFVOCSLn38QFJJ01SFIRg6D+D7NOmzUAXhzsdyS5RoenuleSGLF/uGZiT4RFS55QfQqPmA1eku0iNnuO4+k/toSDaKfnWHJCteAF725SgW38hKNa4iq0cufmMK4lbFxHs1Iexk9qsVp5ZiH12GFvS6ILvpnCfTEBicbK9h6A9IzyhOx4LbtSKTFUfcbmI5aCPgBoMmdXB4OCKY5rWfUxc271pW1oOhUQtAkZkgtViMGeuvnSWrTuB+RXlCLsCMWqwoJGkolLTQfXONCJiwI75mKJIOAlQKz7cMWSIaWbB5crD2vxXRiBDLTLbjyiUkl2nDeqelqzB28xxdGChn0VhUcf/Bpb5tlLgzFQXk1GQr7av2oytfg74NCo3XfbVwKnHbmFbU5drLpvFRLo+7vUmplcn6XPNiYcgBJFzw8LTJr/uyft2t7sZDbL+6DGYaZTUTMPzN8P9u7MkY4DQ7EPKdyiNHuhOT7jLIPwjoD6qcNZm2GZtWqTuiDBsPee+Cqoo8Xk488ZAqGwrQJfKaQzNXRfYqGRck7yn5MUDnfD0BCEvbLxFVzfXfzSkIMyo0Mqo+8eHk8R2JOVz/KQQdfAqv2qpNLo/asoO75/xAzwTQ2slUNwk1oKlccwyQDlwGvpe5OfcHzhyHTnqMctnXDytUhwPkkLLPV5xKkRZjJKNUNJxxbW7J9iPtxWDQpQW9C8MveJB5LUjA3E90/spCPth5MdOgc/FNhJVMObLglqWfwzdjwzM7lHmf/tgWYSmgcBn/6wA1T0gvEzkxZSMVhHkHYvEghNi5fEsPkCQsrcOdLW6UOmmorsaq6vsUqf16Jv1oO+e7jqILboCfxBWUpwHG4Ny1J66DaE/3xGVSNt0jJ9jihmg+jVSomCwwDyCcoSNXt+5EdlQHVVggjn1deGxoIDml28SxUqjSqqKC8dud2zB2/8578w2K8hEMOp3wTth+UMpb951iJC3l4AHJGwO7xLLY06QJtfiCvXF4rbT4TbU3f1g5za0qzgktBYLOxdJsvMEE1naPGBOocU+s79zy5HHl/kw6W4EhCD/MK/k1oYWoGRWuZzZkmRq6EQs6d1XHUx6955mME9lXaX5Yuda4MMKavPL9fk2D48bkUvQNyjV9FeKUHPxl72PjktBV6oTRgPCXzWrw12I8WrPev43WHdQiccAUhzAh6ggT8B7ZrsKE5ipNyLei2X7XRJkxKqGtWwyxzPEEKkkQ6f45mtkfWpnzXkhQ+V9tygcSIWa04DBoHAkbCmryZc3XnOBP65Hq3BnCjDPr7saWFvewVUujfVMEqF0UtoFc2omsFM0znPBjdleD+rUF2t0sjxiJz7JCC/KZvohziRa80VoxyljqL9GbRe+4JaqWqORTmLCqWprzeH1Kgjcd0y529QiuOK4f2tsucxRrVs5QMj3dQhOoMzf+cQyamzs0z95ioJZW/Vw2QiS0AkKKV7N70dcsl4VYRbSL2SqWEJglIA3LHW1H7aX9mhzEVBMVOuM5ZxD7/F267/gPmkYC8ecO8amLx93UFIm1mPCHngAuP0bSvibjqcY+p32VnbQIjutnBKrnJbonBDweN3btpCeh3AUWZLquiu0nBu46hVbXmojp1GKKg9s3p3idxnjcsw22BPMm4fGrlXP+h/DBciT8/nsvypRhWtaIl995yW+V1QiuHxy+rzyf1QJRJA==30DilithiumProvider'\n",
      "tr =  b'\\xa0\\x183Q;l#\\xceZ\\xf8\\xd1B\\xe8k\\x16\\xb9\\x9f\\x9e\\x81\"v6;-0xr\\xf6\\xbf}\\x9a-'\n",
      "m =  b'7e0uYpb2kcz89/n4syWQyU6Cn7pfdxtWk+Q7ab5IVJx9SGubtZHYTqoFVOCSLn38QFJJ01SFIRg6D+D7NOmzUAXhzsdyS5RoenuleSGLF/uGZiT4RFS55QfQqPmA1eku0iNnuO4+k/toSDaKfnWHJCteAF725SgW38hKNa4iq0cufmMK4lbFxHs1Iexk9qsVp5ZiH12GFvS6ILvpnCfTEBicbK9h6A9IzyhOx4LbtSKTFUfcbmI5aCPgBoMmdXB4OCKY5rWfUxc271pW1oOhUQtAkZkgtViMGeuvnSWrTuB+RXlCLsCMWqwoJGkolLTQfXONCJiwI75mKJIOAlQKz7cMWSIaWbB5crD2vxXRiBDLTLbjyiUkl2nDeqelqzB28xxdGChn0VhUcf/Bpb5tlLgzFQXk1GQr7av2oytfg74NCo3XfbVwKnHbmFbU5drLpvFRLo+7vUmplcn6XPNiYcgBJFzw8LTJr/uyft2t7sZDbL+6DGYaZTUTMPzN8P9u7MkY4DQ7EPKdyiNHuhOT7jLIPwjoD6qcNZm2GZtWqTuiDBsPee+Cqoo8Xk488ZAqGwrQJfKaQzNXRfYqGRck7yn5MUDnfD0BCEvbLxFVzfXfzSkIMyo0Mqo+8eHk8R2JOVz/KQQdfAqv2qpNLo/asoO75/xAzwTQ2slUNwk1oKlccwyQDlwGvpe5OfcHzhyHTnqMctnXDytUhwPkkLLPV5xKkRZjJKNUNJxxbW7J9iPtxWDQpQW9C8MveJB5LUjA3E90/spCPth5MdOgc/FNhJVMObLglqWfwzdjwzM7lHmf/tgWYSmgcBn/6wA1T0gvEzkxZSMVhHkHYvEghNi5fEsPkCQsrcOdLW6UOmmorsaq6vsUqf16Jv1oO+e7jqILboCfxBWUpwHG4Ny1J66DaE/3xGVSNt0jJ9jihmg+jVSomCwwDyCcoSNXt+5EdlQHVVggjn1deGxoIDml28SxUqjSqqKC8dud2zB2/8578w2K8hEMOp3wTth+UMpb951iJC3l4AHJGwO7xLLY06QJtfiCvXF4rbT4TbU3f1g5za0qzgktBYLOxdJsvMEE1naPGBOocU+s79zy5HHl/kw6W4EhCD/MK/k1oYWoGRWuZzZkmRq6EQs6d1XHUx6955mME9lXaX5Yuda4MMKavPL9fk2D48bkUvQNyjV9FeKUHPxl72PjktBV6oTRgPCXzWrw12I8WrPev43WHdQiccAUhzAh6ggT8B7ZrsKE5ipNyLei2X7XRJkxKqGtWwyxzPEEKkkQ6f45mtkfWpnzXkhQ+V9tygcSIWa04DBoHAkbCmryZc3XnOBP65Hq3BnCjDPr7saWFvewVUujfVMEqF0UtoFc2omsFM0znPBjdleD+rUF2t0sjxiJz7JCC/KZvohziRa80VoxyljqL9GbRe+4JaqWqORTmLCqWprzeH1Kgjcd0y529QiuOK4f2tsucxRrVs5QMj3dQhOoMzf+cQyamzs0z95ioJZW/Vw2QiS0AkKKV7N70dcsl4VYRbSL2SqWEJglIA3LHW1H7aX9mhzEVBMVOuM5ZxD7/F267/gPmkYC8ecO8amLx93UFIm1mPCHngAuP0bSvibjqcY+p32VnbQIjutnBKrnJbonBDweN3btpCeh3AUWZLquiu0nBu46hVbXmojp1GKKg9s3p3idxnjcsw22BPMm4fGrlXP+h/DBciT8/nsvypRhWtaIl995yW+V1QiuHxy+rzyf1QJRJA==TuHqgtqxkyrBXyuR9Z82cowweDwHQOwe7zJTICAi+agzhLzxos3Z/aYc07mrhjPL6D1KlwNCd02Wa+8O3HcYGaRTCbw2Ae6MVPNYlQQRZIbf2ogK36Nti/3WLZTilBerAjH13+cni+zNiAsoG1jUEKdfYuTtTKhDLLkoy3J9Fd3xujazPbFHEw6Gf6Jc+Bep+XUcBP9tuDBzasPwNPeXDmODUYFqcBKXQi2wvM4vtmsz4jmwoB9qtmiM/oEaao5Pc4YGz93oJtADp5Y11+Rc2cjFqTMgUh5MQlO8XURGdcUnHUdvFiAgCA7hPg5TYmTykp28kn4eJLxzPejlrAKT9WXjUZlUfTzWZ3BNPoXGFUgAGVePL7eB+h5CJy+KCsQJsYNNYDq9iz4Wzzb/OwJY3psXOd7soIZsKBtk+mSNxg9OO6XQIDHNo/sZslwtzK+XZFkcrBjfYrC3j9OSdSKqwxnNlcWWUyP7Z/HXsQGYfZVdoGWkqRkYqf70CrnLuR7vGRinYBLeJPdpk3JmqRHo7NKlqr/nnGYq1Ti29eeEZ0TcBBp54CvHt84kP8rrgCOAxPo3Qs1jNqXQsxvddirEe1AzPTiwygerCzXpDezBbquVwlk7Y54T7KJm8ebqhqfrVr7Y5kq75Nqryni6dyk3F8SpZBHvPbcknjRuJBJhT/0cBRDjFiaujZEue4Vf8DO7yvRFZjISzK/Pfn0TRTzYCeBlBWh6eT3T/FZLxSSo7byTqCuHA7HcCbfc9SMcjtYOummCme5fLOcGBsUzLiZ537ISJwnZJFf3QAAm4IxdD/LtW2PmFbB0s9yB3CMNJOF2CWuBWcMCwjs8s2IgYRGG899vq5NSXurQ90w/oYMHoMX9R00oIoY4iRmJck1EmuyJJGAQnmXRF7KqQOJ9GLSllANCQq0JlvMVwjR6tFtxBEUPEDvOhOOnY0RsQa4A19O9+/wQYFbxM4Zkf8TqFK6buy2thW85KuTBvu6Wl2ybPU1m4Gmh5gkg+pmRm/PXnEKe/dVqRxAaom7KqTaugGsTAmY040AdPAZeKBSksEtxfeuGO1zkFZGfu39qlucB/6GG/T3JGXHrJ5RaHufe1tvNu2BwkV1vSNDjdmwZYt/jXNjV7wEdh7AwcEEymmRlp28gQgC+yb3dTFil4w6aopOIvBk36XCrIrzDk23rrOaqsq3fcnBbwx1S0Ozcq/ND4lohIUzxEOluAJhzr0QCHaiNFmvJjyyjSpod8Rjx3l4bpaWpPrcILR/lAjnC0UNfZYC1MJZoA912tO/Ux60pvn1HB4WoQ1IkrQ1+EUWj5L+QfFl4XOlRqZ3/loo3kSbbhxUK/GRqYB1UED4QBX/DGFgr3YOgWvx7XOFlT55NISVuwyOnlNv3BOR1h9ZazwqOlVV4QfyLIFgfXAJyxKT/lOLekwMRTQVQTA+NaaKlXuirqLBgTSx9P2jbrcQGQ6ffkp/G6EZ1K4eq1KVXO/vvRA14uIJitRaJIstThaEig/H8N6CEWQf/AjyJ0KYwb+ixvAZsoMP3GESpbEBcXvt8fdERSXYnLrjCs2FtbPFqP7T/vIjjJxGHU+I7SZgfuSxs+IuN8JFzE0PFWONBNFopg/v8qe69t5L/yRKzYxhp0pLCjz8A7ivDVbZyw+Vqp5vIoib0rVe8tlvYaNpwirptJHvUMSXFdVZz+nG7eVX9xKpNvi79WxhwQYZJtQGYETGubmGzqqrIzmRBs9QlzBUUn5a0WA==10DilithiumProvider'\n",
      "tr =  b'\\xa0\\x183Q;l#\\xceZ\\xf8\\xd1B\\xe8k\\x16\\xb9\\x9f\\x9e\\x81\"v6;-0xr\\xf6\\xbf}\\x9a-'\n",
      "m =  b'7e0uYpb2kcz89/n4syWQyU6Cn7pfdxtWk+Q7ab5IVJx9SGubtZHYTqoFVOCSLn38QFJJ01SFIRg6D+D7NOmzUAXhzsdyS5RoenuleSGLF/uGZiT4RFS55QfQqPmA1eku0iNnuO4+k/toSDaKfnWHJCteAF725SgW38hKNa4iq0cufmMK4lbFxHs1Iexk9qsVp5ZiH12GFvS6ILvpnCfTEBicbK9h6A9IzyhOx4LbtSKTFUfcbmI5aCPgBoMmdXB4OCKY5rWfUxc271pW1oOhUQtAkZkgtViMGeuvnSWrTuB+RXlCLsCMWqwoJGkolLTQfXONCJiwI75mKJIOAlQKz7cMWSIaWbB5crD2vxXRiBDLTLbjyiUkl2nDeqelqzB28xxdGChn0VhUcf/Bpb5tlLgzFQXk1GQr7av2oytfg74NCo3XfbVwKnHbmFbU5drLpvFRLo+7vUmplcn6XPNiYcgBJFzw8LTJr/uyft2t7sZDbL+6DGYaZTUTMPzN8P9u7MkY4DQ7EPKdyiNHuhOT7jLIPwjoD6qcNZm2GZtWqTuiDBsPee+Cqoo8Xk488ZAqGwrQJfKaQzNXRfYqGRck7yn5MUDnfD0BCEvbLxFVzfXfzSkIMyo0Mqo+8eHk8R2JOVz/KQQdfAqv2qpNLo/asoO75/xAzwTQ2slUNwk1oKlccwyQDlwGvpe5OfcHzhyHTnqMctnXDytUhwPkkLLPV5xKkRZjJKNUNJxxbW7J9iPtxWDQpQW9C8MveJB5LUjA3E90/spCPth5MdOgc/FNhJVMObLglqWfwzdjwzM7lHmf/tgWYSmgcBn/6wA1T0gvEzkxZSMVhHkHYvEghNi5fEsPkCQsrcOdLW6UOmmorsaq6vsUqf16Jv1oO+e7jqILboCfxBWUpwHG4Ny1J66DaE/3xGVSNt0jJ9jihmg+jVSomCwwDyCcoSNXt+5EdlQHVVggjn1deGxoIDml28SxUqjSqqKC8dud2zB2/8578w2K8hEMOp3wTth+UMpb951iJC3l4AHJGwO7xLLY06QJtfiCvXF4rbT4TbU3f1g5za0qzgktBYLOxdJsvMEE1naPGBOocU+s79zy5HHl/kw6W4EhCD/MK/k1oYWoGRWuZzZkmRq6EQs6d1XHUx6955mME9lXaX5Yuda4MMKavPL9fk2D48bkUvQNyjV9FeKUHPxl72PjktBV6oTRgPCXzWrw12I8WrPev43WHdQiccAUhzAh6ggT8B7ZrsKE5ipNyLei2X7XRJkxKqGtWwyxzPEEKkkQ6f45mtkfWpnzXkhQ+V9tygcSIWa04DBoHAkbCmryZc3XnOBP65Hq3BnCjDPr7saWFvewVUujfVMEqF0UtoFc2omsFM0znPBjdleD+rUF2t0sjxiJz7JCC/KZvohziRa80VoxyljqL9GbRe+4JaqWqORTmLCqWprzeH1Kgjcd0y529QiuOK4f2tsucxRrVs5QMj3dQhOoMzf+cQyamzs0z95ioJZW/Vw2QiS0AkKKV7N70dcsl4VYRbSL2SqWEJglIA3LHW1H7aX9mhzEVBMVOuM5ZxD7/F267/gPmkYC8ecO8amLx93UFIm1mPCHngAuP0bSvibjqcY+p32VnbQIjutnBKrnJbonBDweN3btpCeh3AUWZLquiu0nBu46hVbXmojp1GKKg9s3p3idxnjcsw22BPMm4fGrlXP+h/DBciT8/nsvypRhWtaIl995yW+V1QiuHxy+rzyf1QJRJA==TuHqgtqxkyrBXyuR9Z82cowweDwHQOwe7zJTICAi+agzhLzxos3Z/aYc07mrhjPL6D1KlwNCd02Wa+8O3HcYGaRTCbw2Ae6MVPNYlQQRZIbf2ogK36Nti/3WLZTilBerAjH13+cni+zNiAsoG1jUEKdfYuTtTKhDLLkoy3J9Fd3xujazPbFHEw6Gf6Jc+Bep+XUcBP9tuDBzasPwNPeXDmODUYFqcBKXQi2wvM4vtmsz4jmwoB9qtmiM/oEaao5Pc4YGz93oJtADp5Y11+Rc2cjFqTMgUh5MQlO8XURGdcUnHUdvFiAgCA7hPg5TYmTykp28kn4eJLxzPejlrAKT9WXjUZlUfTzWZ3BNPoXGFUgAGVePL7eB+h5CJy+KCsQJsYNNYDq9iz4Wzzb/OwJY3psXOd7soIZsKBtk+mSNxg9OO6XQIDHNo/sZslwtzK+XZFkcrBjfYrC3j9OSdSKqwxnNlcWWUyP7Z/HXsQGYfZVdoGWkqRkYqf70CrnLuR7vGRinYBLeJPdpk3JmqRHo7NKlqr/nnGYq1Ti29eeEZ0TcBBp54CvHt84kP8rrgCOAxPo3Qs1jNqXQsxvddirEe1AzPTiwygerCzXpDezBbquVwlk7Y54T7KJm8ebqhqfrVr7Y5kq75Nqryni6dyk3F8SpZBHvPbcknjRuJBJhT/0cBRDjFiaujZEue4Vf8DO7yvRFZjISzK/Pfn0TRTzYCeBlBWh6eT3T/FZLxSSo7byTqCuHA7HcCbfc9SMcjtYOummCme5fLOcGBsUzLiZ537ISJwnZJFf3QAAm4IxdD/LtW2PmFbB0s9yB3CMNJOF2CWuBWcMCwjs8s2IgYRGG899vq5NSXurQ90w/oYMHoMX9R00oIoY4iRmJck1EmuyJJGAQnmXRF7KqQOJ9GLSllANCQq0JlvMVwjR6tFtxBEUPEDvOhOOnY0RsQa4A19O9+/wQYFbxM4Zkf8TqFK6buy2thW85KuTBvu6Wl2ybPU1m4Gmh5gkg+pmRm/PXnEKe/dVqRxAaom7KqTaugGsTAmY040AdPAZeKBSksEtxfeuGO1zkFZGfu39qlucB/6GG/T3JGXHrJ5RaHufe1tvNu2BwkV1vSNDjdmwZYt/jXNjV7wEdh7AwcEEymmRlp28gQgC+yb3dTFil4w6aopOIvBk36XCrIrzDk23rrOaqsq3fcnBbwx1S0Ozcq/ND4lohIUzxEOluAJhzr0QCHaiNFmvJjyyjSpod8Rjx3l4bpaWpPrcILR/lAjnC0UNfZYC1MJZoA912tO/Ux60pvn1HB4WoQ1IkrQ1+EUWj5L+QfFl4XOlRqZ3/loo3kSbbhxUK/GRqYB1UED4QBX/DGFgr3YOgWvx7XOFlT55NISVuwyOnlNv3BOR1h9ZazwqOlVV4QfyLIFgfXAJyxKT/lOLekwMRTQVQTA+NaaKlXuirqLBgTSx9P2jbrcQGQ6ffkp/G6EZ1K4eq1KVXO/vvRA14uIJitRaJIstThaEig/H8N6CEWQf/AjyJ0KYwb+ixvAZsoMP3GESpbEBcXvt8fdERSXYnLrjCs2FtbPFqP7T/vIjjJxGHU+I7SZgfuSxs+IuN8JFzE0PFWONBNFopg/v8qe69t5L/yRKzYxhp0pLCjz8A7ivDVbZyw+Vqp5vIoib0rVe8tlvYaNpwirptJHvUMSXFdVZz+nG7eVX9xKpNvi79WxhwQYZJtQGYETGubmGzqqrIzmRBs9QlzBUUn5a0WA==15DilithiumProvider'\n",
      "Blockchain with Blocksize 2 and Difficulty 3\n",
      "\n",
      "Block #0\n",
      "Previous Hash: 0\n",
      "Transactions:\n",
      "Timestamp: 1732796812.3166\n",
      "Nonce: 0\n",
      "Hash: e1ba5ce63f2db3d8db8b7d0b44d154eb170f45cfca9c592042735abc323c1b42\n",
      "\n",
      "Block #1\n",
      "Previous Hash: e1ba5ce63f2db3d8db8b7d0b44d154eb170f45cfca9c592042735abc323c1b42\n",
      "Transactions:\n",
      "  | Sender:     TuHqgtqxkyrBXyuR9Z82cowweDwHQOwe7zJTICAi+agzhLzxos3Z/aYc07mrhjPL6D1KlwNCd02Wa+8O3HcYGaRTCbw2Ae6MVPNYlQQRZIbf2ogK36Nti/3WLZTilBerAjH13+cni+zNiAsoG1jUEKdfYuTtTKhDLLkoy3J9Fd3xujazPbFHEw6Gf6Jc+Bep+XUcBP9tuDBzasPwNPeXDmODUYFqcBKXQi2wvM4vtmsz4jmwoB9qtmiM/oEaao5Pc4YGz93oJtADp5Y11+Rc2cjFqTMgUh5MQlO8XURGdcUnHUdvFiAgCA7hPg5TYmTykp28kn4eJLxzPejlrAKT9WXjUZlUfTzWZ3BNPoXGFUgAGVePL7eB+h5CJy+KCsQJsYNNYDq9iz4Wzzb/OwJY3psXOd7soIZsKBtk+mSNxg9OO6XQIDHNo/sZslwtzK+XZFkcrBjfYrC3j9OSdSKqwxnNlcWWUyP7Z/HXsQGYfZVdoGWkqRkYqf70CrnLuR7vGRinYBLeJPdpk3JmqRHo7NKlqr/nnGYq1Ti29eeEZ0TcBBp54CvHt84kP8rrgCOAxPo3Qs1jNqXQsxvddirEe1AzPTiwygerCzXpDezBbquVwlk7Y54T7KJm8ebqhqfrVr7Y5kq75Nqryni6dyk3F8SpZBHvPbcknjRuJBJhT/0cBRDjFiaujZEue4Vf8DO7yvRFZjISzK/Pfn0TRTzYCeBlBWh6eT3T/FZLxSSo7byTqCuHA7HcCbfc9SMcjtYOummCme5fLOcGBsUzLiZ537ISJwnZJFf3QAAm4IxdD/LtW2PmFbB0s9yB3CMNJOF2CWuBWcMCwjs8s2IgYRGG899vq5NSXurQ90w/oYMHoMX9R00oIoY4iRmJck1EmuyJJGAQnmXRF7KqQOJ9GLSllANCQq0JlvMVwjR6tFtxBEUPEDvOhOOnY0RsQa4A19O9+/wQYFbxM4Zkf8TqFK6buy2thW85KuTBvu6Wl2ybPU1m4Gmh5gkg+pmRm/PXnEKe/dVqRxAaom7KqTaugGsTAmY040AdPAZeKBSksEtxfeuGO1zkFZGfu39qlucB/6GG/T3JGXHrJ5RaHufe1tvNu2BwkV1vSNDjdmwZYt/jXNjV7wEdh7AwcEEymmRlp28gQgC+yb3dTFil4w6aopOIvBk36XCrIrzDk23rrOaqsq3fcnBbwx1S0Ozcq/ND4lohIUzxEOluAJhzr0QCHaiNFmvJjyyjSpod8Rjx3l4bpaWpPrcILR/lAjnC0UNfZYC1MJZoA912tO/Ux60pvn1HB4WoQ1IkrQ1+EUWj5L+QfFl4XOlRqZ3/loo3kSbbhxUK/GRqYB1UED4QBX/DGFgr3YOgWvx7XOFlT55NISVuwyOnlNv3BOR1h9ZazwqOlVV4QfyLIFgfXAJyxKT/lOLekwMRTQVQTA+NaaKlXuirqLBgTSx9P2jbrcQGQ6ffkp/G6EZ1K4eq1KVXO/vvRA14uIJitRaJIstThaEig/H8N6CEWQf/AjyJ0KYwb+ixvAZsoMP3GESpbEBcXvt8fdERSXYnLrjCs2FtbPFqP7T/vIjjJxGHU+I7SZgfuSxs+IuN8JFzE0PFWONBNFopg/v8qe69t5L/yRKzYxhp0pLCjz8A7ivDVbZyw+Vqp5vIoib0rVe8tlvYaNpwirptJHvUMSXFdVZz+nG7eVX9xKpNvi79WxhwQYZJtQGYETGubmGzqqrIzmRBs9QlzBUUn5a0WA==\n",
      "  | Recipient:  7e0uYpb2kcz89/n4syWQyU6Cn7pfdxtWk+Q7ab5IVJx9SGubtZHYTqoFVOCSLn38QFJJ01SFIRg6D+D7NOmzUAXhzsdyS5RoenuleSGLF/uGZiT4RFS55QfQqPmA1eku0iNnuO4+k/toSDaKfnWHJCteAF725SgW38hKNa4iq0cufmMK4lbFxHs1Iexk9qsVp5ZiH12GFvS6ILvpnCfTEBicbK9h6A9IzyhOx4LbtSKTFUfcbmI5aCPgBoMmdXB4OCKY5rWfUxc271pW1oOhUQtAkZkgtViMGeuvnSWrTuB+RXlCLsCMWqwoJGkolLTQfXONCJiwI75mKJIOAlQKz7cMWSIaWbB5crD2vxXRiBDLTLbjyiUkl2nDeqelqzB28xxdGChn0VhUcf/Bpb5tlLgzFQXk1GQr7av2oytfg74NCo3XfbVwKnHbmFbU5drLpvFRLo+7vUmplcn6XPNiYcgBJFzw8LTJr/uyft2t7sZDbL+6DGYaZTUTMPzN8P9u7MkY4DQ7EPKdyiNHuhOT7jLIPwjoD6qcNZm2GZtWqTuiDBsPee+Cqoo8Xk488ZAqGwrQJfKaQzNXRfYqGRck7yn5MUDnfD0BCEvbLxFVzfXfzSkIMyo0Mqo+8eHk8R2JOVz/KQQdfAqv2qpNLo/asoO75/xAzwTQ2slUNwk1oKlccwyQDlwGvpe5OfcHzhyHTnqMctnXDytUhwPkkLLPV5xKkRZjJKNUNJxxbW7J9iPtxWDQpQW9C8MveJB5LUjA3E90/spCPth5MdOgc/FNhJVMObLglqWfwzdjwzM7lHmf/tgWYSmgcBn/6wA1T0gvEzkxZSMVhHkHYvEghNi5fEsPkCQsrcOdLW6UOmmorsaq6vsUqf16Jv1oO+e7jqILboCfxBWUpwHG4Ny1J66DaE/3xGVSNt0jJ9jihmg+jVSomCwwDyCcoSNXt+5EdlQHVVggjn1deGxoIDml28SxUqjSqqKC8dud2zB2/8578w2K8hEMOp3wTth+UMpb951iJC3l4AHJGwO7xLLY06QJtfiCvXF4rbT4TbU3f1g5za0qzgktBYLOxdJsvMEE1naPGBOocU+s79zy5HHl/kw6W4EhCD/MK/k1oYWoGRWuZzZkmRq6EQs6d1XHUx6955mME9lXaX5Yuda4MMKavPL9fk2D48bkUvQNyjV9FeKUHPxl72PjktBV6oTRgPCXzWrw12I8WrPev43WHdQiccAUhzAh6ggT8B7ZrsKE5ipNyLei2X7XRJkxKqGtWwyxzPEEKkkQ6f45mtkfWpnzXkhQ+V9tygcSIWa04DBoHAkbCmryZc3XnOBP65Hq3BnCjDPr7saWFvewVUujfVMEqF0UtoFc2omsFM0znPBjdleD+rUF2t0sjxiJz7JCC/KZvohziRa80VoxyljqL9GbRe+4JaqWqORTmLCqWprzeH1Kgjcd0y529QiuOK4f2tsucxRrVs5QMj3dQhOoMzf+cQyamzs0z95ioJZW/Vw2QiS0AkKKV7N70dcsl4VYRbSL2SqWEJglIA3LHW1H7aX9mhzEVBMVOuM5ZxD7/F267/gPmkYC8ecO8amLx93UFIm1mPCHngAuP0bSvibjqcY+p32VnbQIjutnBKrnJbonBDweN3btpCeh3AUWZLquiu0nBu46hVbXmojp1GKKg9s3p3idxnjcsw22BPMm4fGrlXP+h/DBciT8/nsvypRhWtaIl995yW+V1QiuHxy+rzyf1QJRJA==\n",
      "  | Amount:     30\n",
      "  | Signature:  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\n",
      "  | \n",
      "  | Sender:     7e0uYpb2kcz89/n4syWQyU6Cn7pfdxtWk+Q7ab5IVJx9SGubtZHYTqoFVOCSLn38QFJJ01SFIRg6D+D7NOmzUAXhzsdyS5RoenuleSGLF/uGZiT4RFS55QfQqPmA1eku0iNnuO4+k/toSDaKfnWHJCteAF725SgW38hKNa4iq0cufmMK4lbFxHs1Iexk9qsVp5ZiH12GFvS6ILvpnCfTEBicbK9h6A9IzyhOx4LbtSKTFUfcbmI5aCPgBoMmdXB4OCKY5rWfUxc271pW1oOhUQtAkZkgtViMGeuvnSWrTuB+RXlCLsCMWqwoJGkolLTQfXONCJiwI75mKJIOAlQKz7cMWSIaWbB5crD2vxXRiBDLTLbjyiUkl2nDeqelqzB28xxdGChn0VhUcf/Bpb5tlLgzFQXk1GQr7av2oytfg74NCo3XfbVwKnHbmFbU5drLpvFRLo+7vUmplcn6XPNiYcgBJFzw8LTJr/uyft2t7sZDbL+6DGYaZTUTMPzN8P9u7MkY4DQ7EPKdyiNHuhOT7jLIPwjoD6qcNZm2GZtWqTuiDBsPee+Cqoo8Xk488ZAqGwrQJfKaQzNXRfYqGRck7yn5MUDnfD0BCEvbLxFVzfXfzSkIMyo0Mqo+8eHk8R2JOVz/KQQdfAqv2qpNLo/asoO75/xAzwTQ2slUNwk1oKlccwyQDlwGvpe5OfcHzhyHTnqMctnXDytUhwPkkLLPV5xKkRZjJKNUNJxxbW7J9iPtxWDQpQW9C8MveJB5LUjA3E90/spCPth5MdOgc/FNhJVMObLglqWfwzdjwzM7lHmf/tgWYSmgcBn/6wA1T0gvEzkxZSMVhHkHYvEghNi5fEsPkCQsrcOdLW6UOmmorsaq6vsUqf16Jv1oO+e7jqILboCfxBWUpwHG4Ny1J66DaE/3xGVSNt0jJ9jihmg+jVSomCwwDyCcoSNXt+5EdlQHVVggjn1deGxoIDml28SxUqjSqqKC8dud2zB2/8578w2K8hEMOp3wTth+UMpb951iJC3l4AHJGwO7xLLY06QJtfiCvXF4rbT4TbU3f1g5za0qzgktBYLOxdJsvMEE1naPGBOocU+s79zy5HHl/kw6W4EhCD/MK/k1oYWoGRWuZzZkmRq6EQs6d1XHUx6955mME9lXaX5Yuda4MMKavPL9fk2D48bkUvQNyjV9FeKUHPxl72PjktBV6oTRgPCXzWrw12I8WrPev43WHdQiccAUhzAh6ggT8B7ZrsKE5ipNyLei2X7XRJkxKqGtWwyxzPEEKkkQ6f45mtkfWpnzXkhQ+V9tygcSIWa04DBoHAkbCmryZc3XnOBP65Hq3BnCjDPr7saWFvewVUujfVMEqF0UtoFc2omsFM0znPBjdleD+rUF2t0sjxiJz7JCC/KZvohziRa80VoxyljqL9GbRe+4JaqWqORTmLCqWprzeH1Kgjcd0y529QiuOK4f2tsucxRrVs5QMj3dQhOoMzf+cQyamzs0z95ioJZW/Vw2QiS0AkKKV7N70dcsl4VYRbSL2SqWEJglIA3LHW1H7aX9mhzEVBMVOuM5ZxD7/F267/gPmkYC8ecO8amLx93UFIm1mPCHngAuP0bSvibjqcY+p32VnbQIjutnBKrnJbonBDweN3btpCeh3AUWZLquiu0nBu46hVbXmojp1GKKg9s3p3idxnjcsw22BPMm4fGrlXP+h/DBciT8/nsvypRhWtaIl995yW+V1QiuHxy+rzyf1QJRJA==\n",
      "  | Recipient:  TuHqgtqxkyrBXyuR9Z82cowweDwHQOwe7zJTICAi+agzhLzxos3Z/aYc07mrhjPL6D1KlwNCd02Wa+8O3HcYGaRTCbw2Ae6MVPNYlQQRZIbf2ogK36Nti/3WLZTilBerAjH13+cni+zNiAsoG1jUEKdfYuTtTKhDLLkoy3J9Fd3xujazPbFHEw6Gf6Jc+Bep+XUcBP9tuDBzasPwNPeXDmODUYFqcBKXQi2wvM4vtmsz4jmwoB9qtmiM/oEaao5Pc4YGz93oJtADp5Y11+Rc2cjFqTMgUh5MQlO8XURGdcUnHUdvFiAgCA7hPg5TYmTykp28kn4eJLxzPejlrAKT9WXjUZlUfTzWZ3BNPoXGFUgAGVePL7eB+h5CJy+KCsQJsYNNYDq9iz4Wzzb/OwJY3psXOd7soIZsKBtk+mSNxg9OO6XQIDHNo/sZslwtzK+XZFkcrBjfYrC3j9OSdSKqwxnNlcWWUyP7Z/HXsQGYfZVdoGWkqRkYqf70CrnLuR7vGRinYBLeJPdpk3JmqRHo7NKlqr/nnGYq1Ti29eeEZ0TcBBp54CvHt84kP8rrgCOAxPo3Qs1jNqXQsxvddirEe1AzPTiwygerCzXpDezBbquVwlk7Y54T7KJm8ebqhqfrVr7Y5kq75Nqryni6dyk3F8SpZBHvPbcknjRuJBJhT/0cBRDjFiaujZEue4Vf8DO7yvRFZjISzK/Pfn0TRTzYCeBlBWh6eT3T/FZLxSSo7byTqCuHA7HcCbfc9SMcjtYOummCme5fLOcGBsUzLiZ537ISJwnZJFf3QAAm4IxdD/LtW2PmFbB0s9yB3CMNJOF2CWuBWcMCwjs8s2IgYRGG899vq5NSXurQ90w/oYMHoMX9R00oIoY4iRmJck1EmuyJJGAQnmXRF7KqQOJ9GLSllANCQq0JlvMVwjR6tFtxBEUPEDvOhOOnY0RsQa4A19O9+/wQYFbxM4Zkf8TqFK6buy2thW85KuTBvu6Wl2ybPU1m4Gmh5gkg+pmRm/PXnEKe/dVqRxAaom7KqTaugGsTAmY040AdPAZeKBSksEtxfeuGO1zkFZGfu39qlucB/6GG/T3JGXHrJ5RaHufe1tvNu2BwkV1vSNDjdmwZYt/jXNjV7wEdh7AwcEEymmRlp28gQgC+yb3dTFil4w6aopOIvBk36XCrIrzDk23rrOaqsq3fcnBbwx1S0Ozcq/ND4lohIUzxEOluAJhzr0QCHaiNFmvJjyyjSpod8Rjx3l4bpaWpPrcILR/lAjnC0UNfZYC1MJZoA912tO/Ux60pvn1HB4WoQ1IkrQ1+EUWj5L+QfFl4XOlRqZ3/loo3kSbbhxUK/GRqYB1UED4QBX/DGFgr3YOgWvx7XOFlT55NISVuwyOnlNv3BOR1h9ZazwqOlVV4QfyLIFgfXAJyxKT/lOLekwMRTQVQTA+NaaKlXuirqLBgTSx9P2jbrcQGQ6ffkp/G6EZ1K4eq1KVXO/vvRA14uIJitRaJIstThaEig/H8N6CEWQf/AjyJ0KYwb+ixvAZsoMP3GESpbEBcXvt8fdERSXYnLrjCs2FtbPFqP7T/vIjjJxGHU+I7SZgfuSxs+IuN8JFzE0PFWONBNFopg/v8qe69t5L/yRKzYxhp0pLCjz8A7ivDVbZyw+Vqp5vIoib0rVe8tlvYaNpwirptJHvUMSXFdVZz+nG7eVX9xKpNvi79WxhwQYZJtQGYETGubmGzqqrIzmRBs9QlzBUUn5a0WA==\n",
      "  | Amount:     10\n",
      "  | Signature:  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\n",
      "Timestamp: 1732796812.316776\n",
      "Nonce: 1840\n",
      "Hash: 00058b99be9eb4b3625d31eccf16841c222d76049b12da094c538a6861b447b3\n",
      "\n",
      "Pending Transactions:\n",
      "  | Sender:     7e0uYpb2kcz89/n4syWQyU6Cn7pfdxtWk+Q7ab5IVJx9SGubtZHYTqoFVOCSLn38QFJJ01SFIRg6D+D7NOmzUAXhzsdyS5RoenuleSGLF/uGZiT4RFS55QfQqPmA1eku0iNnuO4+k/toSDaKfnWHJCteAF725SgW38hKNa4iq0cufmMK4lbFxHs1Iexk9qsVp5ZiH12GFvS6ILvpnCfTEBicbK9h6A9IzyhOx4LbtSKTFUfcbmI5aCPgBoMmdXB4OCKY5rWfUxc271pW1oOhUQtAkZkgtViMGeuvnSWrTuB+RXlCLsCMWqwoJGkolLTQfXONCJiwI75mKJIOAlQKz7cMWSIaWbB5crD2vxXRiBDLTLbjyiUkl2nDeqelqzB28xxdGChn0VhUcf/Bpb5tlLgzFQXk1GQr7av2oytfg74NCo3XfbVwKnHbmFbU5drLpvFRLo+7vUmplcn6XPNiYcgBJFzw8LTJr/uyft2t7sZDbL+6DGYaZTUTMPzN8P9u7MkY4DQ7EPKdyiNHuhOT7jLIPwjoD6qcNZm2GZtWqTuiDBsPee+Cqoo8Xk488ZAqGwrQJfKaQzNXRfYqGRck7yn5MUDnfD0BCEvbLxFVzfXfzSkIMyo0Mqo+8eHk8R2JOVz/KQQdfAqv2qpNLo/asoO75/xAzwTQ2slUNwk1oKlccwyQDlwGvpe5OfcHzhyHTnqMctnXDytUhwPkkLLPV5xKkRZjJKNUNJxxbW7J9iPtxWDQpQW9C8MveJB5LUjA3E90/spCPth5MdOgc/FNhJVMObLglqWfwzdjwzM7lHmf/tgWYSmgcBn/6wA1T0gvEzkxZSMVhHkHYvEghNi5fEsPkCQsrcOdLW6UOmmorsaq6vsUqf16Jv1oO+e7jqILboCfxBWUpwHG4Ny1J66DaE/3xGVSNt0jJ9jihmg+jVSomCwwDyCcoSNXt+5EdlQHVVggjn1deGxoIDml28SxUqjSqqKC8dud2zB2/8578w2K8hEMOp3wTth+UMpb951iJC3l4AHJGwO7xLLY06QJtfiCvXF4rbT4TbU3f1g5za0qzgktBYLOxdJsvMEE1naPGBOocU+s79zy5HHl/kw6W4EhCD/MK/k1oYWoGRWuZzZkmRq6EQs6d1XHUx6955mME9lXaX5Yuda4MMKavPL9fk2D48bkUvQNyjV9FeKUHPxl72PjktBV6oTRgPCXzWrw12I8WrPev43WHdQiccAUhzAh6ggT8B7ZrsKE5ipNyLei2X7XRJkxKqGtWwyxzPEEKkkQ6f45mtkfWpnzXkhQ+V9tygcSIWa04DBoHAkbCmryZc3XnOBP65Hq3BnCjDPr7saWFvewVUujfVMEqF0UtoFc2omsFM0znPBjdleD+rUF2t0sjxiJz7JCC/KZvohziRa80VoxyljqL9GbRe+4JaqWqORTmLCqWprzeH1Kgjcd0y529QiuOK4f2tsucxRrVs5QMj3dQhOoMzf+cQyamzs0z95ioJZW/Vw2QiS0AkKKV7N70dcsl4VYRbSL2SqWEJglIA3LHW1H7aX9mhzEVBMVOuM5ZxD7/F267/gPmkYC8ecO8amLx93UFIm1mPCHngAuP0bSvibjqcY+p32VnbQIjutnBKrnJbonBDweN3btpCeh3AUWZLquiu0nBu46hVbXmojp1GKKg9s3p3idxnjcsw22BPMm4fGrlXP+h/DBciT8/nsvypRhWtaIl995yW+V1QiuHxy+rzyf1QJRJA==\n",
      "  | Recipient:  TuHqgtqxkyrBXyuR9Z82cowweDwHQOwe7zJTICAi+agzhLzxos3Z/aYc07mrhjPL6D1KlwNCd02Wa+8O3HcYGaRTCbw2Ae6MVPNYlQQRZIbf2ogK36Nti/3WLZTilBerAjH13+cni+zNiAsoG1jUEKdfYuTtTKhDLLkoy3J9Fd3xujazPbFHEw6Gf6Jc+Bep+XUcBP9tuDBzasPwNPeXDmODUYFqcBKXQi2wvM4vtmsz4jmwoB9qtmiM/oEaao5Pc4YGz93oJtADp5Y11+Rc2cjFqTMgUh5MQlO8XURGdcUnHUdvFiAgCA7hPg5TYmTykp28kn4eJLxzPejlrAKT9WXjUZlUfTzWZ3BNPoXGFUgAGVePL7eB+h5CJy+KCsQJsYNNYDq9iz4Wzzb/OwJY3psXOd7soIZsKBtk+mSNxg9OO6XQIDHNo/sZslwtzK+XZFkcrBjfYrC3j9OSdSKqwxnNlcWWUyP7Z/HXsQGYfZVdoGWkqRkYqf70CrnLuR7vGRinYBLeJPdpk3JmqRHo7NKlqr/nnGYq1Ti29eeEZ0TcBBp54CvHt84kP8rrgCOAxPo3Qs1jNqXQsxvddirEe1AzPTiwygerCzXpDezBbquVwlk7Y54T7KJm8ebqhqfrVr7Y5kq75Nqryni6dyk3F8SpZBHvPbcknjRuJBJhT/0cBRDjFiaujZEue4Vf8DO7yvRFZjISzK/Pfn0TRTzYCeBlBWh6eT3T/FZLxSSo7byTqCuHA7HcCbfc9SMcjtYOummCme5fLOcGBsUzLiZ537ISJwnZJFf3QAAm4IxdD/LtW2PmFbB0s9yB3CMNJOF2CWuBWcMCwjs8s2IgYRGG899vq5NSXurQ90w/oYMHoMX9R00oIoY4iRmJck1EmuyJJGAQnmXRF7KqQOJ9GLSllANCQq0JlvMVwjR6tFtxBEUPEDvOhOOnY0RsQa4A19O9+/wQYFbxM4Zkf8TqFK6buy2thW85KuTBvu6Wl2ybPU1m4Gmh5gkg+pmRm/PXnEKe/dVqRxAaom7KqTaugGsTAmY040AdPAZeKBSksEtxfeuGO1zkFZGfu39qlucB/6GG/T3JGXHrJ5RaHufe1tvNu2BwkV1vSNDjdmwZYt/jXNjV7wEdh7AwcEEymmRlp28gQgC+yb3dTFil4w6aopOIvBk36XCrIrzDk23rrOaqsq3fcnBbwx1S0Ozcq/ND4lohIUzxEOluAJhzr0QCHaiNFmvJjyyjSpod8Rjx3l4bpaWpPrcILR/lAjnC0UNfZYC1MJZoA912tO/Ux60pvn1HB4WoQ1IkrQ1+EUWj5L+QfFl4XOlRqZ3/loo3kSbbhxUK/GRqYB1UED4QBX/DGFgr3YOgWvx7XOFlT55NISVuwyOnlNv3BOR1h9ZazwqOlVV4QfyLIFgfXAJyxKT/lOLekwMRTQVQTA+NaaKlXuirqLBgTSx9P2jbrcQGQ6ffkp/G6EZ1K4eq1KVXO/vvRA14uIJitRaJIstThaEig/H8N6CEWQf/AjyJ0KYwb+ixvAZsoMP3GESpbEBcXvt8fdERSXYnLrjCs2FtbPFqP7T/vIjjJxGHU+I7SZgfuSxs+IuN8JFzE0PFWONBNFopg/v8qe69t5L/yRKzYxhp0pLCjz8A7ivDVbZyw+Vqp5vIoib0rVe8tlvYaNpwirptJHvUMSXFdVZz+nG7eVX9xKpNvi79WxhwQYZJtQGYETGubmGzqqrIzmRBs9QlzBUUn5a0WA==\n",
      "  | Amount:     15\n",
      "  | Signature:  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\n",
      "\n",
      "\n",
      "Checking the balances of the addresses...\n",
      "Balance of address1(TuHqgtqxkyrBXyuR9Z82cowweDwHQOwe7zJTICAi+agzhLzxos3Z/aYc07mrhjPL6D1KlwNCd02Wa+8O3HcYGaRTCbw2Ae6MVPNYlQQRZIbf2ogK36Nti/3WLZTilBerAjH13+cni+zNiAsoG1jUEKdfYuTtTKhDLLkoy3J9Fd3xujazPbFHEw6Gf6Jc+Bep+XUcBP9tuDBzasPwNPeXDmODUYFqcBKXQi2wvM4vtmsz4jmwoB9qtmiM/oEaao5Pc4YGz93oJtADp5Y11+Rc2cjFqTMgUh5MQlO8XURGdcUnHUdvFiAgCA7hPg5TYmTykp28kn4eJLxzPejlrAKT9WXjUZlUfTzWZ3BNPoXGFUgAGVePL7eB+h5CJy+KCsQJsYNNYDq9iz4Wzzb/OwJY3psXOd7soIZsKBtk+mSNxg9OO6XQIDHNo/sZslwtzK+XZFkcrBjfYrC3j9OSdSKqwxnNlcWWUyP7Z/HXsQGYfZVdoGWkqRkYqf70CrnLuR7vGRinYBLeJPdpk3JmqRHo7NKlqr/nnGYq1Ti29eeEZ0TcBBp54CvHt84kP8rrgCOAxPo3Qs1jNqXQsxvddirEe1AzPTiwygerCzXpDezBbquVwlk7Y54T7KJm8ebqhqfrVr7Y5kq75Nqryni6dyk3F8SpZBHvPbcknjRuJBJhT/0cBRDjFiaujZEue4Vf8DO7yvRFZjISzK/Pfn0TRTzYCeBlBWh6eT3T/FZLxSSo7byTqCuHA7HcCbfc9SMcjtYOummCme5fLOcGBsUzLiZ537ISJwnZJFf3QAAm4IxdD/LtW2PmFbB0s9yB3CMNJOF2CWuBWcMCwjs8s2IgYRGG899vq5NSXurQ90w/oYMHoMX9R00oIoY4iRmJck1EmuyJJGAQnmXRF7KqQOJ9GLSllANCQq0JlvMVwjR6tFtxBEUPEDvOhOOnY0RsQa4A19O9+/wQYFbxM4Zkf8TqFK6buy2thW85KuTBvu6Wl2ybPU1m4Gmh5gkg+pmRm/PXnEKe/dVqRxAaom7KqTaugGsTAmY040AdPAZeKBSksEtxfeuGO1zkFZGfu39qlucB/6GG/T3JGXHrJ5RaHufe1tvNu2BwkV1vSNDjdmwZYt/jXNjV7wEdh7AwcEEymmRlp28gQgC+yb3dTFil4w6aopOIvBk36XCrIrzDk23rrOaqsq3fcnBbwx1S0Ozcq/ND4lohIUzxEOluAJhzr0QCHaiNFmvJjyyjSpod8Rjx3l4bpaWpPrcILR/lAjnC0UNfZYC1MJZoA912tO/Ux60pvn1HB4WoQ1IkrQ1+EUWj5L+QfFl4XOlRqZ3/loo3kSbbhxUK/GRqYB1UED4QBX/DGFgr3YOgWvx7XOFlT55NISVuwyOnlNv3BOR1h9ZazwqOlVV4QfyLIFgfXAJyxKT/lOLekwMRTQVQTA+NaaKlXuirqLBgTSx9P2jbrcQGQ6ffkp/G6EZ1K4eq1KVXO/vvRA14uIJitRaJIstThaEig/H8N6CEWQf/AjyJ0KYwb+ixvAZsoMP3GESpbEBcXvt8fdERSXYnLrjCs2FtbPFqP7T/vIjjJxGHU+I7SZgfuSxs+IuN8JFzE0PFWONBNFopg/v8qe69t5L/yRKzYxhp0pLCjz8A7ivDVbZyw+Vqp5vIoib0rVe8tlvYaNpwirptJHvUMSXFdVZz+nG7eVX9xKpNvi79WxhwQYZJtQGYETGubmGzqqrIzmRBs9QlzBUUn5a0WA==): -20\n",
      "Balance of address2(7e0uYpb2kcz89/n4syWQyU6Cn7pfdxtWk+Q7ab5IVJx9SGubtZHYTqoFVOCSLn38QFJJ01SFIRg6D+D7NOmzUAXhzsdyS5RoenuleSGLF/uGZiT4RFS55QfQqPmA1eku0iNnuO4+k/toSDaKfnWHJCteAF725SgW38hKNa4iq0cufmMK4lbFxHs1Iexk9qsVp5ZiH12GFvS6ILvpnCfTEBicbK9h6A9IzyhOx4LbtSKTFUfcbmI5aCPgBoMmdXB4OCKY5rWfUxc271pW1oOhUQtAkZkgtViMGeuvnSWrTuB+RXlCLsCMWqwoJGkolLTQfXONCJiwI75mKJIOAlQKz7cMWSIaWbB5crD2vxXRiBDLTLbjyiUkl2nDeqelqzB28xxdGChn0VhUcf/Bpb5tlLgzFQXk1GQr7av2oytfg74NCo3XfbVwKnHbmFbU5drLpvFRLo+7vUmplcn6XPNiYcgBJFzw8LTJr/uyft2t7sZDbL+6DGYaZTUTMPzN8P9u7MkY4DQ7EPKdyiNHuhOT7jLIPwjoD6qcNZm2GZtWqTuiDBsPee+Cqoo8Xk488ZAqGwrQJfKaQzNXRfYqGRck7yn5MUDnfD0BCEvbLxFVzfXfzSkIMyo0Mqo+8eHk8R2JOVz/KQQdfAqv2qpNLo/asoO75/xAzwTQ2slUNwk1oKlccwyQDlwGvpe5OfcHzhyHTnqMctnXDytUhwPkkLLPV5xKkRZjJKNUNJxxbW7J9iPtxWDQpQW9C8MveJB5LUjA3E90/spCPth5MdOgc/FNhJVMObLglqWfwzdjwzM7lHmf/tgWYSmgcBn/6wA1T0gvEzkxZSMVhHkHYvEghNi5fEsPkCQsrcOdLW6UOmmorsaq6vsUqf16Jv1oO+e7jqILboCfxBWUpwHG4Ny1J66DaE/3xGVSNt0jJ9jihmg+jVSomCwwDyCcoSNXt+5EdlQHVVggjn1deGxoIDml28SxUqjSqqKC8dud2zB2/8578w2K8hEMOp3wTth+UMpb951iJC3l4AHJGwO7xLLY06QJtfiCvXF4rbT4TbU3f1g5za0qzgktBYLOxdJsvMEE1naPGBOocU+s79zy5HHl/kw6W4EhCD/MK/k1oYWoGRWuZzZkmRq6EQs6d1XHUx6955mME9lXaX5Yuda4MMKavPL9fk2D48bkUvQNyjV9FeKUHPxl72PjktBV6oTRgPCXzWrw12I8WrPev43WHdQiccAUhzAh6ggT8B7ZrsKE5ipNyLei2X7XRJkxKqGtWwyxzPEEKkkQ6f45mtkfWpnzXkhQ+V9tygcSIWa04DBoHAkbCmryZc3XnOBP65Hq3BnCjDPr7saWFvewVUujfVMEqF0UtoFc2omsFM0znPBjdleD+rUF2t0sjxiJz7JCC/KZvohziRa80VoxyljqL9GbRe+4JaqWqORTmLCqWprzeH1Kgjcd0y529QiuOK4f2tsucxRrVs5QMj3dQhOoMzf+cQyamzs0z95ioJZW/Vw2QiS0AkKKV7N70dcsl4VYRbSL2SqWEJglIA3LHW1H7aX9mhzEVBMVOuM5ZxD7/F267/gPmkYC8ecO8amLx93UFIm1mPCHngAuP0bSvibjqcY+p32VnbQIjutnBKrnJbonBDweN3btpCeh3AUWZLquiu0nBu46hVbXmojp1GKKg9s3p3idxnjcsw22BPMm4fGrlXP+h/DBciT8/nsvypRhWtaIl995yW+V1QiuHxy+rzyf1QJRJA==): 20\n",
      "\n",
      "Mining the last pending transaction...\n",
      "Checking the balances of the addresses again...\n",
      "Balance of address1(TuHqgtqxkyrBXyuR9Z82cowweDwHQOwe7zJTICAi+agzhLzxos3Z/aYc07mrhjPL6D1KlwNCd02Wa+8O3HcYGaRTCbw2Ae6MVPNYlQQRZIbf2ogK36Nti/3WLZTilBerAjH13+cni+zNiAsoG1jUEKdfYuTtTKhDLLkoy3J9Fd3xujazPbFHEw6Gf6Jc+Bep+XUcBP9tuDBzasPwNPeXDmODUYFqcBKXQi2wvM4vtmsz4jmwoB9qtmiM/oEaao5Pc4YGz93oJtADp5Y11+Rc2cjFqTMgUh5MQlO8XURGdcUnHUdvFiAgCA7hPg5TYmTykp28kn4eJLxzPejlrAKT9WXjUZlUfTzWZ3BNPoXGFUgAGVePL7eB+h5CJy+KCsQJsYNNYDq9iz4Wzzb/OwJY3psXOd7soIZsKBtk+mSNxg9OO6XQIDHNo/sZslwtzK+XZFkcrBjfYrC3j9OSdSKqwxnNlcWWUyP7Z/HXsQGYfZVdoGWkqRkYqf70CrnLuR7vGRinYBLeJPdpk3JmqRHo7NKlqr/nnGYq1Ti29eeEZ0TcBBp54CvHt84kP8rrgCOAxPo3Qs1jNqXQsxvddirEe1AzPTiwygerCzXpDezBbquVwlk7Y54T7KJm8ebqhqfrVr7Y5kq75Nqryni6dyk3F8SpZBHvPbcknjRuJBJhT/0cBRDjFiaujZEue4Vf8DO7yvRFZjISzK/Pfn0TRTzYCeBlBWh6eT3T/FZLxSSo7byTqCuHA7HcCbfc9SMcjtYOummCme5fLOcGBsUzLiZ537ISJwnZJFf3QAAm4IxdD/LtW2PmFbB0s9yB3CMNJOF2CWuBWcMCwjs8s2IgYRGG899vq5NSXurQ90w/oYMHoMX9R00oIoY4iRmJck1EmuyJJGAQnmXRF7KqQOJ9GLSllANCQq0JlvMVwjR6tFtxBEUPEDvOhOOnY0RsQa4A19O9+/wQYFbxM4Zkf8TqFK6buy2thW85KuTBvu6Wl2ybPU1m4Gmh5gkg+pmRm/PXnEKe/dVqRxAaom7KqTaugGsTAmY040AdPAZeKBSksEtxfeuGO1zkFZGfu39qlucB/6GG/T3JGXHrJ5RaHufe1tvNu2BwkV1vSNDjdmwZYt/jXNjV7wEdh7AwcEEymmRlp28gQgC+yb3dTFil4w6aopOIvBk36XCrIrzDk23rrOaqsq3fcnBbwx1S0Ozcq/ND4lohIUzxEOluAJhzr0QCHaiNFmvJjyyjSpod8Rjx3l4bpaWpPrcILR/lAjnC0UNfZYC1MJZoA912tO/Ux60pvn1HB4WoQ1IkrQ1+EUWj5L+QfFl4XOlRqZ3/loo3kSbbhxUK/GRqYB1UED4QBX/DGFgr3YOgWvx7XOFlT55NISVuwyOnlNv3BOR1h9ZazwqOlVV4QfyLIFgfXAJyxKT/lOLekwMRTQVQTA+NaaKlXuirqLBgTSx9P2jbrcQGQ6ffkp/G6EZ1K4eq1KVXO/vvRA14uIJitRaJIstThaEig/H8N6CEWQf/AjyJ0KYwb+ixvAZsoMP3GESpbEBcXvt8fdERSXYnLrjCs2FtbPFqP7T/vIjjJxGHU+I7SZgfuSxs+IuN8JFzE0PFWONBNFopg/v8qe69t5L/yRKzYxhp0pLCjz8A7ivDVbZyw+Vqp5vIoib0rVe8tlvYaNpwirptJHvUMSXFdVZz+nG7eVX9xKpNvi79WxhwQYZJtQGYETGubmGzqqrIzmRBs9QlzBUUn5a0WA==): -5\n",
      "Balance of address2(7e0uYpb2kcz89/n4syWQyU6Cn7pfdxtWk+Q7ab5IVJx9SGubtZHYTqoFVOCSLn38QFJJ01SFIRg6D+D7NOmzUAXhzsdyS5RoenuleSGLF/uGZiT4RFS55QfQqPmA1eku0iNnuO4+k/toSDaKfnWHJCteAF725SgW38hKNa4iq0cufmMK4lbFxHs1Iexk9qsVp5ZiH12GFvS6ILvpnCfTEBicbK9h6A9IzyhOx4LbtSKTFUfcbmI5aCPgBoMmdXB4OCKY5rWfUxc271pW1oOhUQtAkZkgtViMGeuvnSWrTuB+RXlCLsCMWqwoJGkolLTQfXONCJiwI75mKJIOAlQKz7cMWSIaWbB5crD2vxXRiBDLTLbjyiUkl2nDeqelqzB28xxdGChn0VhUcf/Bpb5tlLgzFQXk1GQr7av2oytfg74NCo3XfbVwKnHbmFbU5drLpvFRLo+7vUmplcn6XPNiYcgBJFzw8LTJr/uyft2t7sZDbL+6DGYaZTUTMPzN8P9u7MkY4DQ7EPKdyiNHuhOT7jLIPwjoD6qcNZm2GZtWqTuiDBsPee+Cqoo8Xk488ZAqGwrQJfKaQzNXRfYqGRck7yn5MUDnfD0BCEvbLxFVzfXfzSkIMyo0Mqo+8eHk8R2JOVz/KQQdfAqv2qpNLo/asoO75/xAzwTQ2slUNwk1oKlccwyQDlwGvpe5OfcHzhyHTnqMctnXDytUhwPkkLLPV5xKkRZjJKNUNJxxbW7J9iPtxWDQpQW9C8MveJB5LUjA3E90/spCPth5MdOgc/FNhJVMObLglqWfwzdjwzM7lHmf/tgWYSmgcBn/6wA1T0gvEzkxZSMVhHkHYvEghNi5fEsPkCQsrcOdLW6UOmmorsaq6vsUqf16Jv1oO+e7jqILboCfxBWUpwHG4Ny1J66DaE/3xGVSNt0jJ9jihmg+jVSomCwwDyCcoSNXt+5EdlQHVVggjn1deGxoIDml28SxUqjSqqKC8dud2zB2/8578w2K8hEMOp3wTth+UMpb951iJC3l4AHJGwO7xLLY06QJtfiCvXF4rbT4TbU3f1g5za0qzgktBYLOxdJsvMEE1naPGBOocU+s79zy5HHl/kw6W4EhCD/MK/k1oYWoGRWuZzZkmRq6EQs6d1XHUx6955mME9lXaX5Yuda4MMKavPL9fk2D48bkUvQNyjV9FeKUHPxl72PjktBV6oTRgPCXzWrw12I8WrPev43WHdQiccAUhzAh6ggT8B7ZrsKE5ipNyLei2X7XRJkxKqGtWwyxzPEEKkkQ6f45mtkfWpnzXkhQ+V9tygcSIWa04DBoHAkbCmryZc3XnOBP65Hq3BnCjDPr7saWFvewVUujfVMEqF0UtoFc2omsFM0znPBjdleD+rUF2t0sjxiJz7JCC/KZvohziRa80VoxyljqL9GbRe+4JaqWqORTmLCqWprzeH1Kgjcd0y529QiuOK4f2tsucxRrVs5QMj3dQhOoMzf+cQyamzs0z95ioJZW/Vw2QiS0AkKKV7N70dcsl4VYRbSL2SqWEJglIA3LHW1H7aX9mhzEVBMVOuM5ZxD7/F267/gPmkYC8ecO8amLx93UFIm1mPCHngAuP0bSvibjqcY+p32VnbQIjutnBKrnJbonBDweN3btpCeh3AUWZLquiu0nBu46hVbXmojp1GKKg9s3p3idxnjcsw22BPMm4fGrlXP+h/DBciT8/nsvypRhWtaIl995yW+V1QiuHxy+rzyf1QJRJA==): 5\n",
      "\n",
      "Checking the validity of the blockchain...\n",
      "Blockchain validity: True\n",
      "Modifying blockchain...\n",
      "Blockchain validity: True\n"
     ]
    }
   ],
   "source": [
    "crypto_provider = DilithiumProvider()\n",
    "private_key1, public_key1 = crypto_provider.generate_key_pair()\n",
    "address1 = base64.b64encode(public_key1).decode(\"utf-8\")\n",
    "private_key2, public_key2 = crypto_provider.generate_key_pair()\n",
    "address2 = base64.b64encode(public_key2).decode(\"utf-8\")\n",
    "\n",
    "transaction1 = Transaction(address1, address2, 30, crypto_provider)\n",
    "transaction1.sign_transaction(private_key1)\n",
    "\n",
    "transaction2 = Transaction(address2, address1, 10, crypto_provider)\n",
    "transaction2.sign_transaction(private_key2)\n",
    "\n",
    "transaction3 = Transaction(address2, address1, 15, crypto_provider)\n",
    "transaction3.sign_transaction(private_key2)\n",
    "\n",
    "blockchain = Blockchain(2, 3, crypto_provider)\n",
    "blockchain.add_transaction(transaction1)\n",
    "blockchain.add_transaction(transaction2)\n",
    "blockchain.add_transaction(transaction3)\n",
    "blockchain.mine_pending_transactions()\n",
    "\n",
    "print(blockchain)\n",
    "\n",
    "print(\"\\nChecking the balances of the addresses...\")\n",
    "print(f\"Balance of address1({address1}): {blockchain.get_balance(address1)}\")\n",
    "print(f\"Balance of address2({address2}): {blockchain.get_balance(address2)}\")\n",
    "\n",
    "blockchain.mine_pending_transactions()\n",
    "print(\"\\nMining the last pending transaction...\")\n",
    "print(\"Checking the balances of the addresses again...\")\n",
    "print(f\"Balance of address1({address1}): {blockchain.get_balance(address1)}\")\n",
    "print(f\"Balance of address2({address2}): {blockchain.get_balance(address2)}\")\n",
    "\n",
    "print(\"\\nChecking the validity of the blockchain...\")\n",
    "print(f\"Blockchain validity: {blockchain.is_valid()}\")\n",
    "\n",
    "blockchain.chain[1].transactions[1].amount = 20\n",
    "print(\"Modifying blockchain...\")\n",
    "print(f\"Blockchain validity: {blockchain.is_valid()}\")"
   ]
  },
  {
   "cell_type": "code",
   "execution_count": null,
   "metadata": {
    "colab": {
     "base_uri": "https://localhost:8080/"
    },
    "id": "3MW1gC5rcySt",
    "outputId": "21a6466c-7fc8-4669-c777-b52e8dcbf9bf"
   },
   "outputs": [
    {
     "name": "stdout",
     "output_type": "stream",
     "text": [
      "Private Key 1 Size: 2561 bytes\n",
      "Public Key 1 Size: 1345 bytes\n",
      "Transaction 1 Signature Size: 2453 bytes\n",
      "Blockchain Storage Size: 20.74 KB\n"
     ]
    }
   ],
   "source": [
    "private_key1_size = sys.getsizeof(private_key1)\n",
    "public_key1_size = sys.getsizeof(public_key1)\n",
    "print(f\"Private Key 1 Size: {private_key1_size} bytes\")\n",
    "print(f\"Public Key 1 Size: {public_key1_size} bytes\")\n",
    "\n",
    "transaction1_signature_size = sys.getsizeof(transaction1.signature)\n",
    "print(f\"Transaction 1 Signature Size: {transaction1_signature_size} bytes\")\n",
    "\n",
    "blockchain_data = json.dumps([block.__dict__ for block in blockchain.chain], default=str).encode()\n",
    "blockchain_size = sys.getsizeof(blockchain_data)\n",
    "print(f\"Blockchain Storage Size: {blockchain_size / 1024:.2f} KB\")"
   ]
  },
  {
   "cell_type": "code",
   "execution_count": null,
   "metadata": {
    "colab": {
     "base_uri": "https://localhost:8080/"
    },
    "id": "g9Zl9xwbLv7o",
    "outputId": "d250afed-875f-44d2-e8dd-0899d738208d"
   },
   "outputs": [
    {
     "name": "stdout",
     "output_type": "stream",
     "text": [
      "Collecting pqcrypto\n",
      "  Downloading pqcrypto-0.1.3.tar.gz (1.4 MB)\n",
      "\u001b[2K     \u001b[90m━━━━━━━━━━━━━━━━━━━━━━━━━━━━━━━━━━━━━━━━\u001b[0m \u001b[32m1.4/1.4 MB\u001b[0m \u001b[31m4.9 MB/s\u001b[0m eta \u001b[36m0:00:00\u001b[0m\n",
      "\u001b[?25h  Installing build dependencies ... \u001b[?25l\u001b[?25hdone\n",
      "  Getting requirements to build wheel ... \u001b[?25l\u001b[?25hdone\n",
      "  Preparing metadata (pyproject.toml) ... \u001b[?25l\u001b[?25hdone\n",
      "Requirement already satisfied: cffi<2.0.0,>=1.14.2 in /usr/local/lib/python3.10/dist-packages (from pqcrypto) (1.17.1)\n",
      "Requirement already satisfied: pycparser in /usr/local/lib/python3.10/dist-packages (from cffi<2.0.0,>=1.14.2->pqcrypto) (2.22)\n",
      "Building wheels for collected packages: pqcrypto\n",
      "  Building wheel for pqcrypto (pyproject.toml) ... \u001b[?25l\u001b[?25hdone\n",
      "  Created wheel for pqcrypto: filename=pqcrypto-0.1.3-cp310-cp310-manylinux_2_35_x86_64.whl size=2119082 sha256=471e284861276cdb8d65ba2f7a65b0c506a26ddaa8ff575a5aab34652bd42f26\n",
      "  Stored in directory: /root/.cache/pip/wheels/89/13/4f/b2c678a9f6c473acb0d259d47c30387bab4f836f28dab19f1c\n",
      "Successfully built pqcrypto\n",
      "Installing collected packages: pqcrypto\n",
      "Successfully installed pqcrypto-0.1.3\n"
     ]
    }
   ],
   "source": [
    "pip install pqcrypto"
   ]
  },
  {
   "cell_type": "code",
   "execution_count": null,
   "metadata": {
    "colab": {
     "base_uri": "https://localhost:8080/",
     "height": 447
    },
    "id": "VnbLPM9H2Ma2",
    "outputId": "515ea6ad-38be-4992-9542-b7d35e7aadee"
   },
   "outputs": [
    {
     "ename": "ModuleNotFoundError",
     "errorDetails": {
      "actions": [
       {
        "action": "open_url",
        "actionText": "Open Examples",
        "url": "/notebooks/snippets/importing_libraries.ipynb"
       }
      ]
     },
     "evalue": "No module named 'pqcrypto._sign.dilithium4'",
     "output_type": "error",
     "traceback": [
      "\u001b[0;31m---------------------------------------------------------------------------\u001b[0m",
      "\u001b[0;31mModuleNotFoundError\u001b[0m                       Traceback (most recent call last)",
      "\u001b[0;32m<ipython-input-3-f98a3399f057>\u001b[0m in \u001b[0;36m<cell line: 1>\u001b[0;34m()\u001b[0m\n\u001b[0;32m----> 1\u001b[0;31m \u001b[0;32mfrom\u001b[0m \u001b[0mpqcrypto\u001b[0m\u001b[0;34m.\u001b[0m\u001b[0msign\u001b[0m\u001b[0;34m.\u001b[0m\u001b[0mdilithium4\u001b[0m \u001b[0;32mimport\u001b[0m \u001b[0mgenerate_keypair\u001b[0m\u001b[0;34m,\u001b[0m \u001b[0msign\u001b[0m\u001b[0;34m,\u001b[0m \u001b[0mverify\u001b[0m\u001b[0;34m\u001b[0m\u001b[0;34m\u001b[0m\u001b[0m\n\u001b[0m",
      "\u001b[0;32m/usr/local/lib/python3.10/dist-packages/pqcrypto/sign/dilithium4.py\u001b[0m in \u001b[0;36m<module>\u001b[0;34m\u001b[0m\n\u001b[0;32m----> 1\u001b[0;31m \u001b[0;32mfrom\u001b[0m \u001b[0;34m.\u001b[0m\u001b[0;34m.\u001b[0m\u001b[0m_sign\u001b[0m\u001b[0;34m.\u001b[0m\u001b[0mdilithium4\u001b[0m \u001b[0;32mimport\u001b[0m \u001b[0mffi\u001b[0m \u001b[0;32mas\u001b[0m \u001b[0m__ffi\u001b[0m\u001b[0;34m,\u001b[0m \u001b[0mlib\u001b[0m \u001b[0;32mas\u001b[0m \u001b[0m__lib\u001b[0m\u001b[0;34m\u001b[0m\u001b[0;34m\u001b[0m\u001b[0m\n\u001b[0m\u001b[1;32m      2\u001b[0m \u001b[0;32mfrom\u001b[0m \u001b[0;34m.\u001b[0m\u001b[0mcommon\u001b[0m \u001b[0;32mimport\u001b[0m \u001b[0m_sign_generate_keypair_factory\u001b[0m\u001b[0;34m,\u001b[0m \u001b[0m_sign_sign_factory\u001b[0m\u001b[0;34m,\u001b[0m \u001b[0m_sign_verify_factory\u001b[0m\u001b[0;34m\u001b[0m\u001b[0;34m\u001b[0m\u001b[0m\n\u001b[1;32m      3\u001b[0m \u001b[0;34m\u001b[0m\u001b[0m\n\u001b[1;32m      4\u001b[0m \u001b[0mPUBLIC_KEY_SIZE\u001b[0m \u001b[0;34m=\u001b[0m \u001b[0m__lib\u001b[0m\u001b[0;34m.\u001b[0m\u001b[0mCRYPTO_PUBLICKEYBYTES\u001b[0m\u001b[0;34m\u001b[0m\u001b[0;34m\u001b[0m\u001b[0m\n\u001b[1;32m      5\u001b[0m \u001b[0mSECRET_KEY_SIZE\u001b[0m \u001b[0;34m=\u001b[0m \u001b[0m__lib\u001b[0m\u001b[0;34m.\u001b[0m\u001b[0mCRYPTO_SECRETKEYBYTES\u001b[0m\u001b[0;34m\u001b[0m\u001b[0;34m\u001b[0m\u001b[0m\n",
      "\u001b[0;31mModuleNotFoundError\u001b[0m: No module named 'pqcrypto._sign.dilithium4'",
      "",
      "\u001b[0;31m---------------------------------------------------------------------------\u001b[0;32m\nNOTE: If your import is failing due to a missing package, you can\nmanually install dependencies using either !pip or !apt.\n\nTo view examples of installing some common dependencies, click the\n\"Open Examples\" button below.\n\u001b[0;31m---------------------------------------------------------------------------\u001b[0m\n"
     ]
    }
   ],
   "source": [
    "from pqcrypto.sign.dilithium4 import generate_keypair, sign, verify"
   ]
  },
  {
   "cell_type": "code",
   "execution_count": null,
   "metadata": {
    "id": "vrG96FMoLu70"
   },
   "outputs": [],
   "source": []
  }
 ],
 "metadata": {
  "colab": {
   "provenance": []
  },
  "kernelspec": {
   "display_name": "Python 3 (ipykernel)",
   "language": "python",
   "name": "python3"
  },
  "language_info": {
   "codemirror_mode": {
    "name": "ipython",
    "version": 3
   },
   "file_extension": ".py",
   "mimetype": "text/x-python",
   "name": "python",
   "nbconvert_exporter": "python",
   "pygments_lexer": "ipython3",
   "version": "3.12.7"
  }
 },
 "nbformat": 4,
 "nbformat_minor": 4
}
